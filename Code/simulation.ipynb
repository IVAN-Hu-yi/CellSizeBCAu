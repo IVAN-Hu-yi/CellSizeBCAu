{
 "cells": [
  {
   "cell_type": "code",
   "execution_count": 6,
   "metadata": {},
   "outputs": [],
   "source": [
    "%matplotlib inline\n",
    "import numpy as np\n",
    "from scipy.integrate import solve_ivp\n",
    "from parametres import Paras\n",
    "from utilities import *\n",
    "from initialisation import *\n",
    "from odes import odes_scale_size\n",
    "import matplotlib.pyplot as plt\n",
    "from size_scaled_func import *\n",
    "import datetime as dt\n",
    "from simulation_func import *\n",
    "import pandas as pd\n",
    "import pickle as pkl\n",
    "import os\n",
    "from math import sqrt\n",
    "import simulation_func"
   ]
  },
  {
   "attachments": {},
   "cell_type": "markdown",
   "metadata": {},
   "source": [
    "# Running the Simulations"
   ]
  },
  {
   "attachments": {},
   "cell_type": "markdown",
   "metadata": {},
   "source": [
    "## Repeated runs of 30"
   ]
  },
  {
   "attachments": {},
   "cell_type": "markdown",
   "metadata": {},
   "source": [
    "- First writing the stopping condition\n",
    "    - integration will stop if steady state is reached\n",
    "    - the tolerance will be `tol=1e-9`\n"
   ]
  },
  {
   "attachments": {},
   "cell_type": "markdown",
   "metadata": {},
   "source": [
    "\n",
    "- Setting 25 species, 50 resources\n",
    "- 100 simulations were performed"
   ]
  },
  {
   "cell_type": "code",
   "execution_count": 2,
   "metadata": {},
   "outputs": [],
   "source": [
    "# Setting parametres\n",
    "N = 100\n",
    "M = 100\n",
    "#assemblenum = 1\n",
    "para = Paras(N, M)\n",
    "assemblies = 1"
   ]
  },
  {
   "cell_type": "code",
   "execution_count": 3,
   "metadata": {},
   "outputs": [],
   "source": [
    "Rt_assemblies = []\n",
    "Ct_assemblies = []\n",
    "time_assemblies = []\n",
    "para_assemblies = []"
   ]
  },
  {
   "cell_type": "code",
   "execution_count": 4,
   "metadata": {},
   "outputs": [
    {
     "ename": "KeyboardInterrupt",
     "evalue": "",
     "output_type": "error",
     "traceback": [
      "\u001b[1;31m---------------------------------------------------------------------------\u001b[0m",
      "\u001b[1;31mKeyboardInterrupt\u001b[0m                         Traceback (most recent call last)",
      "\u001b[1;32mf:\\Study\\FYP\\CellSizeBCAu\\Code\\simulation.ipynb Cell 8\u001b[0m in \u001b[0;36m<cell line: 3>\u001b[1;34m()\u001b[0m\n\u001b[0;32m      <a href='vscode-notebook-cell:/f%3A/Study/FYP/CellSizeBCAu/Code/simulation.ipynb#W6sZmlsZQ%3D%3D?line=1'>2</a>\u001b[0m start \u001b[39m=\u001b[39m dt\u001b[39m.\u001b[39mdatetime\u001b[39m.\u001b[39mnow()\n\u001b[0;32m      <a href='vscode-notebook-cell:/f%3A/Study/FYP/CellSizeBCAu/Code/simulation.ipynb#W6sZmlsZQ%3D%3D?line=2'>3</a>\u001b[0m \u001b[39mfor\u001b[39;00m i \u001b[39min\u001b[39;00m \u001b[39mrange\u001b[39m(assemblies):\n\u001b[1;32m----> <a href='vscode-notebook-cell:/f%3A/Study/FYP/CellSizeBCAu/Code/simulation.ipynb#W6sZmlsZQ%3D%3D?line=3'>4</a>\u001b[0m     Rt, Ct, t, para \u001b[39m=\u001b[39m sim_run(N, M, para, i, tstop\u001b[39m=\u001b[39;49m\u001b[39m10e5\u001b[39;49m, teval\u001b[39m=\u001b[39;49m\u001b[39m10000\u001b[39;49m)\n\u001b[0;32m      <a href='vscode-notebook-cell:/f%3A/Study/FYP/CellSizeBCAu/Code/simulation.ipynb#W6sZmlsZQ%3D%3D?line=4'>5</a>\u001b[0m     Rt_assemblies\u001b[39m.\u001b[39mappend(Rt)\n\u001b[0;32m      <a href='vscode-notebook-cell:/f%3A/Study/FYP/CellSizeBCAu/Code/simulation.ipynb#W6sZmlsZQ%3D%3D?line=5'>6</a>\u001b[0m     Ct_assemblies\u001b[39m.\u001b[39mappend(Ct)\n",
      "File \u001b[1;32mf:\\Study\\FYP\\CellSizeBCAu\\Code\\simulation_func.py:71\u001b[0m, in \u001b[0;36msim_run\u001b[1;34m(N, M, para, assemblenum, tstop, teval, scale)\u001b[0m\n\u001b[0;32m     69\u001b[0m \u001b[39mif\u001b[39;00m scale:\n\u001b[0;32m     70\u001b[0m     pars \u001b[39m=\u001b[39m (para\u001b[39m.\u001b[39ml, para\u001b[39m.\u001b[39mm, para\u001b[39m.\u001b[39mrho, para\u001b[39m.\u001b[39mmu, para\u001b[39m.\u001b[39mkm, para\u001b[39m.\u001b[39mp, para\u001b[39m.\u001b[39mD, para\u001b[39m.\u001b[39mv_in_max, para\u001b[39m.\u001b[39mtype, para\u001b[39m.\u001b[39mB0, para\u001b[39m.\u001b[39mM0, para\u001b[39m.\u001b[39mE0, para\u001b[39m.\u001b[39malpha, para\u001b[39m.\u001b[39mbeta, para\u001b[39m.\u001b[39mgamma, para\u001b[39m.\u001b[39mR_half, para\u001b[39m.\u001b[39mavgm)\n\u001b[1;32m---> 71\u001b[0m     result \u001b[39m=\u001b[39m solve_ivp(\n\u001b[0;32m     72\u001b[0m     odes_scale_size, t_span\u001b[39m=\u001b[39;49m[time[\u001b[39m0\u001b[39;49m], time[\u001b[39m-\u001b[39;49m\u001b[39m1\u001b[39;49m]], y0\u001b[39m=\u001b[39;49my0, t_eval\u001b[39m=\u001b[39;49mtime, args\u001b[39m=\u001b[39;49mpars, dense_output\u001b[39m=\u001b[39;49m\u001b[39mTrue\u001b[39;49;00m)\n\u001b[0;32m     74\u001b[0m \u001b[39mif\u001b[39;00m \u001b[39mnot\u001b[39;00m scale:\n\u001b[0;32m     75\u001b[0m     pars \u001b[39m=\u001b[39m (para\u001b[39m.\u001b[39ml, para\u001b[39m.\u001b[39mm, para\u001b[39m.\u001b[39mrho, para\u001b[39m.\u001b[39mmu, para\u001b[39m.\u001b[39mkm, para\u001b[39m.\u001b[39mp, para\u001b[39m.\u001b[39mD, para\u001b[39m.\u001b[39mv_in_max, para\u001b[39m.\u001b[39mtype, para\u001b[39m.\u001b[39mR_half)\n",
      "File \u001b[1;32mf:\\Anaconda3\\envs\\fyp\\lib\\site-packages\\scipy\\integrate\\_ivp\\ivp.py:591\u001b[0m, in \u001b[0;36msolve_ivp\u001b[1;34m(fun, t_span, y0, method, t_eval, dense_output, events, vectorized, args, **options)\u001b[0m\n\u001b[0;32m    589\u001b[0m status \u001b[39m=\u001b[39m \u001b[39mNone\u001b[39;00m\n\u001b[0;32m    590\u001b[0m \u001b[39mwhile\u001b[39;00m status \u001b[39mis\u001b[39;00m \u001b[39mNone\u001b[39;00m:\n\u001b[1;32m--> 591\u001b[0m     message \u001b[39m=\u001b[39m solver\u001b[39m.\u001b[39;49mstep()\n\u001b[0;32m    593\u001b[0m     \u001b[39mif\u001b[39;00m solver\u001b[39m.\u001b[39mstatus \u001b[39m==\u001b[39m \u001b[39m'\u001b[39m\u001b[39mfinished\u001b[39m\u001b[39m'\u001b[39m:\n\u001b[0;32m    594\u001b[0m         status \u001b[39m=\u001b[39m \u001b[39m0\u001b[39m\n",
      "File \u001b[1;32mf:\\Anaconda3\\envs\\fyp\\lib\\site-packages\\scipy\\integrate\\_ivp\\base.py:181\u001b[0m, in \u001b[0;36mOdeSolver.step\u001b[1;34m(self)\u001b[0m\n\u001b[0;32m    179\u001b[0m \u001b[39melse\u001b[39;00m:\n\u001b[0;32m    180\u001b[0m     t \u001b[39m=\u001b[39m \u001b[39mself\u001b[39m\u001b[39m.\u001b[39mt\n\u001b[1;32m--> 181\u001b[0m     success, message \u001b[39m=\u001b[39m \u001b[39mself\u001b[39;49m\u001b[39m.\u001b[39;49m_step_impl()\n\u001b[0;32m    183\u001b[0m     \u001b[39mif\u001b[39;00m \u001b[39mnot\u001b[39;00m success:\n\u001b[0;32m    184\u001b[0m         \u001b[39mself\u001b[39m\u001b[39m.\u001b[39mstatus \u001b[39m=\u001b[39m \u001b[39m'\u001b[39m\u001b[39mfailed\u001b[39m\u001b[39m'\u001b[39m\n",
      "File \u001b[1;32mf:\\Anaconda3\\envs\\fyp\\lib\\site-packages\\scipy\\integrate\\_ivp\\rk.py:144\u001b[0m, in \u001b[0;36mRungeKutta._step_impl\u001b[1;34m(self)\u001b[0m\n\u001b[0;32m    141\u001b[0m h \u001b[39m=\u001b[39m t_new \u001b[39m-\u001b[39m t\n\u001b[0;32m    142\u001b[0m h_abs \u001b[39m=\u001b[39m np\u001b[39m.\u001b[39mabs(h)\n\u001b[1;32m--> 144\u001b[0m y_new, f_new \u001b[39m=\u001b[39m rk_step(\u001b[39mself\u001b[39;49m\u001b[39m.\u001b[39;49mfun, t, y, \u001b[39mself\u001b[39;49m\u001b[39m.\u001b[39;49mf, h, \u001b[39mself\u001b[39;49m\u001b[39m.\u001b[39;49mA,\n\u001b[0;32m    145\u001b[0m                        \u001b[39mself\u001b[39;49m\u001b[39m.\u001b[39;49mB, \u001b[39mself\u001b[39;49m\u001b[39m.\u001b[39;49mC, \u001b[39mself\u001b[39;49m\u001b[39m.\u001b[39;49mK)\n\u001b[0;32m    146\u001b[0m scale \u001b[39m=\u001b[39m atol \u001b[39m+\u001b[39m np\u001b[39m.\u001b[39mmaximum(np\u001b[39m.\u001b[39mabs(y), np\u001b[39m.\u001b[39mabs(y_new)) \u001b[39m*\u001b[39m rtol\n\u001b[0;32m    147\u001b[0m error_norm \u001b[39m=\u001b[39m \u001b[39mself\u001b[39m\u001b[39m.\u001b[39m_estimate_error_norm(\u001b[39mself\u001b[39m\u001b[39m.\u001b[39mK, h, scale)\n",
      "File \u001b[1;32mf:\\Anaconda3\\envs\\fyp\\lib\\site-packages\\scipy\\integrate\\_ivp\\rk.py:64\u001b[0m, in \u001b[0;36mrk_step\u001b[1;34m(fun, t, y, f, h, A, B, C, K)\u001b[0m\n\u001b[0;32m     62\u001b[0m \u001b[39mfor\u001b[39;00m s, (a, c) \u001b[39min\u001b[39;00m \u001b[39menumerate\u001b[39m(\u001b[39mzip\u001b[39m(A[\u001b[39m1\u001b[39m:], C[\u001b[39m1\u001b[39m:]), start\u001b[39m=\u001b[39m\u001b[39m1\u001b[39m):\n\u001b[0;32m     63\u001b[0m     dy \u001b[39m=\u001b[39m np\u001b[39m.\u001b[39mdot(K[:s]\u001b[39m.\u001b[39mT, a[:s]) \u001b[39m*\u001b[39m h\n\u001b[1;32m---> 64\u001b[0m     K[s] \u001b[39m=\u001b[39m fun(t \u001b[39m+\u001b[39;49m c \u001b[39m*\u001b[39;49m h, y \u001b[39m+\u001b[39;49m dy)\n\u001b[0;32m     66\u001b[0m y_new \u001b[39m=\u001b[39m y \u001b[39m+\u001b[39m h \u001b[39m*\u001b[39m np\u001b[39m.\u001b[39mdot(K[:\u001b[39m-\u001b[39m\u001b[39m1\u001b[39m]\u001b[39m.\u001b[39mT, B)\n\u001b[0;32m     67\u001b[0m f_new \u001b[39m=\u001b[39m fun(t \u001b[39m+\u001b[39m h, y_new)\n",
      "File \u001b[1;32mf:\\Anaconda3\\envs\\fyp\\lib\\site-packages\\scipy\\integrate\\_ivp\\base.py:138\u001b[0m, in \u001b[0;36mOdeSolver.__init__.<locals>.fun\u001b[1;34m(t, y)\u001b[0m\n\u001b[0;32m    136\u001b[0m \u001b[39mdef\u001b[39;00m \u001b[39mfun\u001b[39m(t, y):\n\u001b[0;32m    137\u001b[0m     \u001b[39mself\u001b[39m\u001b[39m.\u001b[39mnfev \u001b[39m+\u001b[39m\u001b[39m=\u001b[39m \u001b[39m1\u001b[39m\n\u001b[1;32m--> 138\u001b[0m     \u001b[39mreturn\u001b[39;00m \u001b[39mself\u001b[39;49m\u001b[39m.\u001b[39;49mfun_single(t, y)\n",
      "File \u001b[1;32mf:\\Anaconda3\\envs\\fyp\\lib\\site-packages\\scipy\\integrate\\_ivp\\base.py:20\u001b[0m, in \u001b[0;36mcheck_arguments.<locals>.fun_wrapped\u001b[1;34m(t, y)\u001b[0m\n\u001b[0;32m     19\u001b[0m \u001b[39mdef\u001b[39;00m \u001b[39mfun_wrapped\u001b[39m(t, y):\n\u001b[1;32m---> 20\u001b[0m     \u001b[39mreturn\u001b[39;00m np\u001b[39m.\u001b[39masarray(fun(t, y), dtype\u001b[39m=\u001b[39mdtype)\n",
      "File \u001b[1;32mf:\\Anaconda3\\envs\\fyp\\lib\\site-packages\\scipy\\integrate\\_ivp\\ivp.py:529\u001b[0m, in \u001b[0;36msolve_ivp.<locals>.<lambda>\u001b[1;34m(t, x, fun)\u001b[0m\n\u001b[0;32m    523\u001b[0m     suggestion_tuple \u001b[39m=\u001b[39m (\n\u001b[0;32m    524\u001b[0m         \u001b[39m\"\u001b[39m\u001b[39mSupplied \u001b[39m\u001b[39m'\u001b[39m\u001b[39margs\u001b[39m\u001b[39m'\u001b[39m\u001b[39m cannot be unpacked. Please supply `args`\u001b[39m\u001b[39m\"\u001b[39m\n\u001b[0;32m    525\u001b[0m         \u001b[39mf\u001b[39m\u001b[39m\"\u001b[39m\u001b[39m as a tuple (e.g. `args=(\u001b[39m\u001b[39m{\u001b[39;00margs\u001b[39m}\u001b[39;00m\u001b[39m,)`)\u001b[39m\u001b[39m\"\u001b[39m\n\u001b[0;32m    526\u001b[0m     )\n\u001b[0;32m    527\u001b[0m     \u001b[39mraise\u001b[39;00m \u001b[39mTypeError\u001b[39;00m(suggestion_tuple) \u001b[39mfrom\u001b[39;00m \u001b[39mexp\u001b[39;00m\n\u001b[1;32m--> 529\u001b[0m fun \u001b[39m=\u001b[39m \u001b[39mlambda\u001b[39;00m t, x, fun\u001b[39m=\u001b[39mfun: fun(t, x, \u001b[39m*\u001b[39;49margs)\n\u001b[0;32m    530\u001b[0m jac \u001b[39m=\u001b[39m options\u001b[39m.\u001b[39mget(\u001b[39m'\u001b[39m\u001b[39mjac\u001b[39m\u001b[39m'\u001b[39m)\n\u001b[0;32m    531\u001b[0m \u001b[39mif\u001b[39;00m callable(jac):\n",
      "File \u001b[1;32mf:\\Study\\FYP\\CellSizeBCAu\\Code\\odes.py:85\u001b[0m, in \u001b[0;36modes_scale_size\u001b[1;34m(t, y, l, m, rho, mu, km, p, D, vmax, type, B0, M0, E0, alpha, beta, gamma, Rhalf, avgm)\u001b[0m\n\u001b[0;32m     83\u001b[0m \u001b[39m# caculate intermediate\u001b[39;00m\n\u001b[0;32m     84\u001b[0m v_in \u001b[39m=\u001b[39m vin(p, R, Rhalf, vmax, \u001b[39mtype\u001b[39m)\n\u001b[1;32m---> 85\u001b[0m v_in \u001b[39m=\u001b[39m scale_vin(v_in, avgm, B0, alpha)\n\u001b[0;32m     86\u001b[0m v_grow \u001b[39m=\u001b[39m vgrow(v_in, l)\n\u001b[0;32m     87\u001b[0m v_out \u001b[39m=\u001b[39m vout(v_in, l, D)\n",
      "\u001b[1;31mKeyboardInterrupt\u001b[0m: "
     ]
    }
   ],
   "source": [
    "# Run simulation\n",
    "start = dt.datetime.now()\n",
    "for i in range(assemblies):\n",
    "    Rt, Ct, t, para = sim_run(N, M, para, i, tstop=10e5, teval=10000)\n",
    "    Rt_assemblies.append(Rt)\n",
    "    Ct_assemblies.append(Ct)\n",
    "    para_assemblies.append(para)\n",
    "    time_assemblies.append(t)\n",
    "    print(f'Asembly {i+1} complete, runtime:{dt.datetime.now()-start}') if (i+1) %5==0 else None"
   ]
  },
  {
   "attachments": {},
   "cell_type": "markdown",
   "metadata": {},
   "source": [
    "### Store the data\n",
    "\n",
    "- Each Assembly will be stored in a dir called 'Abl_n' containing four files:\n",
    "    - Resource concentration -- Abl_n_Rt.npy\n",
    "    - Biomass concentration -- Abl_n_Ct.npy\n",
    "    - Parametre -- Abl_n_Para.pkl\n",
    "    - Time_series -- Abl_n_t.npy"
   ]
  },
  {
   "cell_type": "code",
   "execution_count": null,
   "metadata": {},
   "outputs": [],
   "source": [
    "if not os.path.exists('..\\Data\\Asb'):\n",
    "    os.makedirs('..\\Data\\Asb')\n",
    "for i in range(1, len(Ct_assemblies)+1):\n",
    "\n",
    "    dir = f'..\\Data\\Asb\\Abl_{i}'\n",
    "    if not os.path.exists(dir):\n",
    "        os.makedirs(dir) \n",
    "\n",
    "    with open(dir + f'\\Abl_{i}_Ct.npy', 'wb') as f:\n",
    "        np.save(f, Ct_assemblies[i-1])\n",
    "    f.close()\n",
    "\n",
    "    with open(dir + f'\\Abl_{i}_Rt.npy', 'wb') as f:\n",
    "        np.save(f, Rt_assemblies[i-1])\n",
    "    f.close()\n",
    "\n",
    "    with open(dir + f'\\Abl_{i}_t.npy', 'wb') as f:\n",
    "        np.save(f, time_assemblies[i-1])\n",
    "    f.close()\n",
    "\n",
    "    with open(dir + f'\\Abl_{i}_Para.pkl', 'wb') as f:\n",
    "        pkl.dump(para_assemblies[i-1], f)\n",
    "    f.close()"
   ]
  },
  {
   "attachments": {},
   "cell_type": "markdown",
   "metadata": {},
   "source": [
    "# Stopping at Equlibrium state"
   ]
  },
  {
   "cell_type": "code",
   "execution_count": 2,
   "metadata": {},
   "outputs": [],
   "source": [
    "# Setting parametres\n",
    "N = 100\n",
    "M = 100\n",
    "subcommunity_size = 50\n",
    "num_subcommunity = 30\n",
    "tol = 1e-4"
   ]
  },
  {
   "cell_type": "code",
   "execution_count": 3,
   "metadata": {},
   "outputs": [
    {
     "name": "stdout",
     "output_type": "stream",
     "text": [
      "Initialisation completed!\n",
      "Subcommunity simulation 5 completed runtime:0:02:52.053707\n",
      "Subcommunity simulation 10 completed runtime:0:04:27.120531\n",
      "Subcommunity simulation 15 completed runtime:0:25:45.269681\n",
      "Subcommunity simulation 20 completed runtime:0:27:46.781457\n",
      "Subcommunity simulation 25 completed runtime:0:37:07.927189\n",
      "Subcommunity simulation 30 completed runtime:0:38:47.955386\n"
     ]
    }
   ],
   "source": [
    "# Run simulation\n",
    "Rt_assemblies, Ct_assemblies, time_assemblies, para_assemblies, idx_assemblies = sim_sub_run_tol(N, M, 1, tstop=10e5, teval=10000, subcommunity_size=subcommunity_size, num_subcommunity=num_subcommunity, tol=tol)"
   ]
  },
  {
   "cell_type": "code",
   "execution_count": 5,
   "metadata": {},
   "outputs": [],
   "source": [
    "if not os.path.exists('..\\Data\\eqAsb'):\n",
    "    os.makedirs('..\\Data\\eqAsb')\n",
    "for i in range(1, len(Ct_assemblies)+1):\n",
    "\n",
    "    dir = f'..\\Data\\eqAsb\\eqAbl_{i}'\n",
    "    if not os.path.exists(dir):\n",
    "        os.makedirs(dir) \n",
    "\n",
    "    with open(dir + f'\\eqAbl_{i}_Ct.npy', 'wb') as f:\n",
    "        np.save(f, Ct_assemblies[i-1])\n",
    "    f.close()\n",
    "\n",
    "    with open(dir + f'\\eqAbl_{i}_Rt.npy', 'wb') as f:\n",
    "        np.save(f, Rt_assemblies[i-1])\n",
    "    f.close()\n",
    "\n",
    "    with open(dir + f'\\eqAbl_{i}_t.npy', 'wb') as f:\n",
    "        np.save(f, time_assemblies[i-1])\n",
    "    f.close()\n",
    "\n",
    "    with open(dir + f'\\eqAbl_{i}_Para.pkl', 'wb') as f:\n",
    "        pkl.dump(para_assemblies[i-1], f)\n",
    "    f.close()\n",
    "\n",
    "    with open(dir + f'\\Abl_{i}_ID.npy', 'wb') as f:\n",
    "        np.save(f, idx_assemblies[i-1])\n",
    "    f.close()"
   ]
  },
  {
   "attachments": {},
   "cell_type": "markdown",
   "metadata": {},
   "source": [
    "## Subassemby runs"
   ]
  },
  {
   "cell_type": "code",
   "execution_count": null,
   "metadata": {},
   "outputs": [],
   "source": [
    "# Setting parametres\n",
    "N = 100\n",
    "M = 100\n",
    "assemblenum = 1\n",
    "assemblies = 30\n",
    "subcommunity_size = 30\n",
    "num_subcommunity = 30"
   ]
  },
  {
   "cell_type": "code",
   "execution_count": null,
   "metadata": {},
   "outputs": [
    {
     "name": "stdout",
     "output_type": "stream",
     "text": [
      "Initialisation completed!\n",
      "Subcommunity simulation 5 completed runtime:0:05:08.267648\n",
      "Subcommunity simulation 10 completed runtime:0:10:32.275424\n",
      "Subcommunity simulation 15 completed runtime:0:15:54.104556\n",
      "Subcommunity simulation 20 completed runtime:0:21:55.332622\n",
      "Subcommunity simulation 25 completed runtime:0:27:27.060831\n",
      "Subcommunity simulation 30 completed runtime:0:32:46.162688\n"
     ]
    }
   ],
   "source": [
    "R, C, t, para, idlist = sim_sub_run(N, M, assemblenum, 100000, 10000, subcommunity_size, num_subcommunity)"
   ]
  },
  {
   "attachments": {},
   "cell_type": "markdown",
   "metadata": {},
   "source": [
    "### Load data structure\n",
    "- data storage structure: FOLDER `sub_abl_beta=0.75` contains\n",
    "    - FOLDER `subabl_{i}`, each of which contains the following:\n",
    "        - Resource concentration -- `sAbl_n_Rt.npy`\n",
    "        - Biomass concentration -- `sAbl_n_Ct.npy`\n",
    "        - Parametre -- `sAbl_n_Para.pkl`\n",
    "        - Time_series -- `sAbl_n_t.npy`"
   ]
  },
  {
   "cell_type": "code",
   "execution_count": null,
   "metadata": {},
   "outputs": [],
   "source": [
    "if not os.path.exists('..\\Data\\sub'):\n",
    "    os.makedirs('..\\Data\\sub')\n",
    "for i in range(1, num_subcommunity+1):\n",
    "\n",
    "    dir = f'..\\Data\\sub\\sAbl_{i}'\n",
    "    if not os.path.exists(dir):\n",
    "        os.makedirs(dir) \n",
    "\n",
    "    with open(dir + f'\\sAbl_{i}_Ct.npy', 'wb') as f:\n",
    "        np.save(f, C[i-1])\n",
    "    f.close()\n",
    "\n",
    "    with open(dir + f'\\sAbl_{i}_Rt.npy', 'wb') as f:\n",
    "        np.save(f, R[i-1])\n",
    "    f.close()\n",
    "\n",
    "    with open(dir + f'\\sAbl_{i}_t.npy', 'wb') as f:\n",
    "        np.save(f, t[i-1])\n",
    "    f.close()\n",
    "\n",
    "    with open(dir + f'\\sAbl_{i}_Para.pkl', 'wb') as f:\n",
    "        pkl.dump(para[i-1], f)\n",
    "    f.close()\n",
    "\n",
    "    with open(dir + f'\\sAbl_{i}speciesID.npy', 'wb') as f:\n",
    "        np.save(f, idlist[i-1])\n",
    "    f.close()"
   ]
  },
  {
   "attachments": {},
   "cell_type": "markdown",
   "metadata": {},
   "source": [
    "## Subassemby runs with varying w"
   ]
  },
  {
   "attachments": {},
   "cell_type": "markdown",
   "metadata": {},
   "source": [
    "- let `w=1` to `w=2` from uniform to left skewed distribution\n",
    "- Assuming each community has `subcommunity_size = 30` species selected from a pre-initialised species pool, each session consists of 30 communities for each value of `w`, where `w` will be binned into `50` values.\n",
    "- Modify `sim_sub_run` function, then we store our results"
   ]
  },
  {
   "cell_type": "code",
   "execution_count": null,
   "metadata": {},
   "outputs": [],
   "source": [
    "## get w values\n",
    "w = np.linspace(1, 2, 50)\n",
    "\n",
    "## initialised data storage\n",
    "Rw = []\n",
    "Cw = []\n",
    "tw = []\n",
    "paraw = []\n",
    "idlist = []\n",
    "\n",
    "## initialised parametres\n",
    "N = 100\n",
    "M = 50\n",
    "assemblenum = 1\n",
    "assemblies = 30\n",
    "subcommunity_size = 20\n",
    "num_subcommunity = 30"
   ]
  },
  {
   "cell_type": "code",
   "execution_count": null,
   "metadata": {},
   "outputs": [],
   "source": [
    "### initialised parametres to ensure each session uses the same set of species\n",
    "para = Paras(N, M)\n",
    "p, number = int_preferences(N, M, para.mu_c, assemblenum)\n",
    "D = int_conversion(M, para.Dbase, para.number, assemblenum, para.sparsity)\n",
    "l = int_l(M, para.l_base, assemblenum)\n",
    "rho = int_rho(M, para.rho_base, assemblenum)\n",
    "vmax = int_vmax(N, M, para.v_max_base, p, number, assemblenum)\n",
    "m = int_mt(N, para.m_base, assemblenum)"
   ]
  },
  {
   "cell_type": "code",
   "execution_count": null,
   "metadata": {},
   "outputs": [],
   "source": [
    "def sim_sub_run(N, M, assemblenum, tstop, teval, subcommunity_size=10, num_subcommunity=20, scale=True, w=2):\n",
    "\n",
    "    # data storage\n",
    "    R_assembles = []\n",
    "    C_assembles = []\n",
    "    t_assembles = []\n",
    "    para_assembles = []\n",
    "    identifiers = []\n",
    "    model = Paras(N, M)\n",
    "    avgm_global = allocate_avgm(N, w, assemblenum, model.ymin, model.ymax)\n",
    "\n",
    "    # print(f'Initialisation completed!')\n",
    "    # start = dt.datetime.now()\n",
    "\n",
    "    # run sub_communities\n",
    "    for i in range(num_subcommunity):\n",
    "\n",
    "        para = Paras(subcommunity_size, M)\n",
    "        ## select corresponding species for subcommunity assemblies\n",
    "        rng = default_rng(seed=assemblenum+i+8*i)\n",
    "        idx = rng.choice(range(N), size=subcommunity_size, replace=False)\n",
    "        identifiers.append(idx)\n",
    "\n",
    "        # reset and initialised\n",
    "        new_p = p[idx, :]\n",
    "        new_vmax = vmax[idx, :]\n",
    "        new_m = m[idx, :]\n",
    "        para.w = w\n",
    "        avgm = avgm_global[idx]\n",
    "        # print(avgm)\n",
    "        ## Initialised Initial conditions\n",
    "        R0 = int_R(M, para.R0, assemblenum)\n",
    "        C0 = int_C(avgm, para.x0)\n",
    "\n",
    "       # Load parametres\n",
    "        para.paras(C0, R0, l, rho, new_p, new_vmax, new_m, D, avgm)\n",
    "        time = np.linspace(0, tstop, teval)\n",
    "        y0 = np.concatenate((R0, C0)).reshape(M+subcommunity_size,) # initial conditions\n",
    "        # run and store\n",
    "        if scale:\n",
    "            pars = (para.l, para.m, para.rho, para.mu, para.km, para.p, para.D, para.v_in_max, para.type, para.B0, para.M0, para.E0, para.alpha, para.beta, para.gamma, para.R_half, para.avgm)\n",
    "            result = solve_ivp(\n",
    "            odes_scale_size, t_span=[time[0], time[-1]], y0=y0, t_eval=time, args=pars, dense_output=True)\n",
    "        \n",
    "        if not scale:\n",
    "            pars = (para.l, para.m, para.rho, para.mu, para.km, para.p, para.D, para.v_in_max, para.type, para.R_half)\n",
    "            result = solve_ivp(odes_not_scaled, t_span=[time[0], time[-1]], y0=y0, t_eval=time, args=pars, dense_output=True)\n",
    "        \n",
    "        Rt = result['y'][0:M]\n",
    "        Ct = result['y'][M:M+subcommunity_size]\n",
    "        t = result['t']\n",
    "\n",
    "        # print(f'Subcommunity simulation {i+1} completed runtime:{dt.datetime.now()-start}') if (i+1)%5==0 else None\n",
    "\n",
    "        R_assembles.append(Rt)\n",
    "        C_assembles.append(Ct)\n",
    "        t_assembles.append(t)\n",
    "        para_assembles.append(para)\n",
    "\n",
    "    return R_assembles, C_assembles, t_assembles, para_assembles, identifiers"
   ]
  },
  {
   "cell_type": "code",
   "execution_count": null,
   "metadata": {},
   "outputs": [
    {
     "name": "stdout",
     "output_type": "stream",
     "text": [
      "Subcommunity simulation 5 completed runtime:0:09:42.743656, w: 1.0816326530612246\n",
      "Subcommunity simulation 10 completed runtime:0:20:49.418348, w: 1.183673469387755\n",
      "Subcommunity simulation 15 completed runtime:0:33:19.030816, w: 1.2857142857142856\n",
      "Subcommunity simulation 20 completed runtime:0:46:44.858641, w: 1.3877551020408163\n",
      "Subcommunity simulation 25 completed runtime:1:01:17.858204, w: 1.489795918367347\n",
      "Subcommunity simulation 30 completed runtime:1:15:15.870946, w: 1.5918367346938775\n",
      "Subcommunity simulation 35 completed runtime:1:29:33.073026, w: 1.693877551020408\n",
      "Subcommunity simulation 40 completed runtime:1:45:58.217434, w: 1.7959183673469385\n",
      "Subcommunity simulation 45 completed runtime:2:03:47.493588, w: 1.8979591836734693\n",
      "Subcommunity simulation 50 completed runtime:2:18:56.374703, w: 2.0\n"
     ]
    }
   ],
   "source": [
    "# start running\n",
    "\n",
    "start = dt.datetime.now()\n",
    "for i, vals in enumerate(w):\n",
    "    R, C, t, parat, idxs = sim_sub_run(N, M, i, 1000000, 10000, subcommunity_size, num_subcommunity, True, vals)\n",
    "    Rw.append(R)\n",
    "    Cw.append(C)\n",
    "    tw.append(t)\n",
    "    paraw.append(parat)\n",
    "    idlist.append(idxs)\n",
    "    \n",
    "    print(f'Subcommunity simulation {i+1} completed runtime:{dt.datetime.now()-start}, w: {parat[0].w}')  if (i+1)%5==0 else None\n"
   ]
  },
  {
   "attachments": {},
   "cell_type": "markdown",
   "metadata": {},
   "source": [
    "- data storage structure: FOLDER `variedC` contains\n",
    "    - FOLDER `w_val`, each of which contains the following:\n",
    "        - Resource concentration -- `sAbl_n_Rt.npy`\n",
    "        - Biomass concentration -- `sAbl_n_Ct.npy`\n",
    "        - Parametre -- `sAbl_n_Para.pkl`\n",
    "        - Time_series -- `sAbl_n_t.npy` $\\newline$\n",
    "for every n"
   ]
  },
  {
   "cell_type": "code",
   "execution_count": null,
   "metadata": {},
   "outputs": [],
   "source": [
    "## data storage\n",
    "if not os.path.exists('..\\Data\\\\variedC'):\n",
    "    os.mkdir('..\\Data\\\\variedC')\n",
    "\n",
    "for i, val in enumerate(w):\n",
    "\n",
    "    if 40 <= i < 50:\n",
    "\n",
    "        dir = f'..\\Data\\\\variedC\\w_{i+1}'\n",
    "        if not os.path.exists(dir): os.mkdir(dir)\n",
    "        \n",
    "        R = Rw[i]\n",
    "        C = Cw[i]\n",
    "        t = tw[i]\n",
    "        para = paraw[i]\n",
    "        idl = idlist[i]\n",
    "\n",
    "        for j in range(1, len(R)+1):\n",
    "            with open(dir + f'\\w{i+1}_sAbl_{j}_Ct.npy', 'wb') as f:\n",
    "                np.save(f, C[j-1])\n",
    "            f.close()\n",
    "\n",
    "            with open(dir + f'\\w{i+1}_sAbl_{j}_Rt.npy', 'wb') as f:\n",
    "                np.save(f, R[j-1])\n",
    "            f.close()\n",
    "\n",
    "            with open(dir + f'\\w{i+1}_sAbl_{j}_t.npy', 'wb') as f:\n",
    "                np.save(f, t[j-1])\n",
    "            f.close()\n",
    "\n",
    "            with open(dir + f'\\w{i+1}_sAbl_{j}_Para.pkl', 'wb') as f:\n",
    "                pkl.dump(para[j-1], f)\n",
    "            f.close()\n",
    "\n",
    "            with open(dir + f'\\w{i+1}_sAbl_{j}_speciesID.npy', 'wb') as f:\n",
    "                np.save(f, idl[j-1])\n",
    "            f.close()\n",
    "\n",
    "    else:\n",
    "        pass\n"
   ]
  },
  {
   "attachments": {},
   "cell_type": "markdown",
   "metadata": {},
   "source": [
    "## Assemby runs with varying w (with early stop)"
   ]
  },
  {
   "cell_type": "code",
   "execution_count": 35,
   "metadata": {},
   "outputs": [],
   "source": [
    "N = 50\n",
    "M = 100\n",
    "paras = Paras(N, M)\n",
    "tol=1e-3"
   ]
  },
  {
   "cell_type": "code",
   "execution_count": 36,
   "metadata": {},
   "outputs": [],
   "source": [
    "def sim_run_tols(N, M, para:Paras, assemblenum, tstop, teval, scale=True, tol=1e-4, w=2):\n",
    "\n",
    "    ### initialised parametres with equilibrium early stop\n",
    "    # para = Paras(N, M)\n",
    "    p, number = int_preferences(N, M, para.mu_c, assemblenum)\n",
    "    D = int_conversion(M, para.Dbase, para.number, assemblenum, para.sparsity)\n",
    "    l = int_l(M, para.l_base, assemblenum)\n",
    "    rho = int_rho(M, para.rho_base, assemblenum)\n",
    "    vmax = int_vmax(N, M, para.v_max_base, p, number, assemblenum)\n",
    "    m = int_mt(N, para.m_base, assemblenum)\n",
    "    para.w = w\n",
    "    avgm = allocate_avgm(N, w, assemblenum, para.ymin, para.ymax)\n",
    "\n",
    "    ## Initialised Initial conditions\n",
    "    R0 = int_R(M, para.R0, assemblenum)\n",
    "    C0 = int_C(avgm, para.x0)\n",
    "\n",
    "    # Load parametres\n",
    "    para.paras(C0, R0, l, rho, p, vmax, m, D, avgm)\n",
    "    time = np.linspace(0, tstop, teval)\n",
    "    y0 = np.concatenate((R0, C0)).reshape(M+N,) # initial conditions\n",
    "\n",
    "    # run and store\n",
    "    if scale:\n",
    "        pars = (para.l, para.m, para.rho, para.mu, para.km, para.p, para.D, para.v_in_max, para.type, para.B0, para.M0, para.E0, para.alpha, para.beta, para.gamma, para.R_half, para.avgm)\n",
    "\n",
    "        odec = lambda t, y:odes_scale_size(t, y, *pars)\n",
    "        detect_ss_odec = lambda t, y: detect_steady_state(t, y,*pars, tol, N)\n",
    "        detect_ss_odec.terminal = True\n",
    "        # detect_ss_odec.direction = 0\n",
    "        \n",
    "        result = solve_ivp(\n",
    "        odec, t_span=[time[0], time[-1]], y0=y0, t_eval=time, dense_output=True, events=detect_ss_odec)\n",
    "    \n",
    "    if not scale:\n",
    "        pars = (para.l, para.m, para.rho, para.mu, para.km, para.p, para.D, para.v_in_max, para.type, para.R_half)\n",
    "        result = solve_ivp(odes_not_scaled, t_span=[time[0], time[-1]], y0=y0, t_eval=time, args=pars, dense_output=True)\n",
    "\n",
    "    Rt = result['y'][0:M]\n",
    "    Ct = result['y'][M:M+N]\n",
    "    t = result['t']\n",
    "    # Ct = extract_Ct_single_assembly(Ct)\n",
    "    \n",
    "    return Rt, Ct, t, para"
   ]
  },
  {
   "cell_type": "code",
   "execution_count": 37,
   "metadata": {},
   "outputs": [],
   "source": [
    "RtA = []\n",
    "CtA = []\n",
    "ttA = []\n",
    "paraA = []"
   ]
  },
  {
   "cell_type": "code",
   "execution_count": 41,
   "metadata": {},
   "outputs": [
    {
     "name": "stdout",
     "output_type": "stream",
     "text": [
      "Subcommunity simulation 5 completed runtime:0:00:05.680328, w: 1.0816326530612246\n",
      "Subcommunity simulation 10 completed runtime:0:00:12.268525, w: 1.183673469387755\n",
      "Subcommunity simulation 15 completed runtime:0:00:19.610992, w: 1.2857142857142856\n",
      "Subcommunity simulation 20 completed runtime:0:00:29.287604, w: 1.3877551020408163\n",
      "Subcommunity simulation 25 completed runtime:0:00:42.279803, w: 1.489795918367347\n",
      "Subcommunity simulation 30 completed runtime:0:00:59.909987, w: 1.5918367346938775\n",
      "Subcommunity simulation 35 completed runtime:0:01:24.347230, w: 1.693877551020408\n",
      "Subcommunity simulation 40 completed runtime:0:01:57.568471, w: 1.7959183673469385\n",
      "Subcommunity simulation 45 completed runtime:0:02:38.021178, w: 1.8979591836734693\n",
      "Subcommunity simulation 50 completed runtime:0:03:28.636193, w: 2.0\n"
     ]
    }
   ],
   "source": [
    "warray = np.linspace(1, 2, 50)\n",
    "start = dt.datetime.now()\n",
    "for i, w in enumerate(warray):\n",
    "    R, C, t, para = sim_run_tols(N, M, paras, 1, 1000000, 100000, tol=tol, w=w)\n",
    "    RtA.append(R)\n",
    "    CtA.append(C)\n",
    "    ttA.append(t)\n",
    "    paraA.append(para)\n",
    "    print(f'Subcommunity simulation {i+1} completed runtime:{dt.datetime.now()-start}, w: {para.w}') if (i+1)%5==0 else None"
   ]
  }
 ],
 "metadata": {
  "kernelspec": {
   "display_name": "fyp",
   "language": "python",
   "name": "python3"
  },
  "language_info": {
   "codemirror_mode": {
    "name": "ipython",
    "version": 3
   },
   "file_extension": ".py",
   "mimetype": "text/x-python",
   "name": "python",
   "nbconvert_exporter": "python",
   "pygments_lexer": "ipython3",
   "version": "3.10.9"
  },
  "orig_nbformat": 4
 },
 "nbformat": 4,
 "nbformat_minor": 2
}
