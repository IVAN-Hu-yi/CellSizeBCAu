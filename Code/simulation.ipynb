{
 "cells": [
  {
   "cell_type": "code",
   "execution_count": 1,
   "metadata": {},
   "outputs": [],
   "source": [
    "%matplotlib inline\n",
    "import numpy as np\n",
    "from scipy.integrate import solve_ivp\n",
    "from parametres import Paras\n",
    "from utilities import *\n",
    "from initialisation import *\n",
    "from odes import odes_scale_size\n",
    "import matplotlib.pyplot as plt\n",
    "from size_scaled_func import *\n",
    "import datetime as dt\n",
    "from simulation_func import *\n",
    "import pandas as pd\n",
    "import pickle as pkl\n",
    "import os"
   ]
  },
  {
   "attachments": {},
   "cell_type": "markdown",
   "metadata": {},
   "source": [
    "# Running the Simulations"
   ]
  },
  {
   "attachments": {},
   "cell_type": "markdown",
   "metadata": {},
   "source": [
    "## Repeated runs of 30"
   ]
  },
  {
   "attachments": {},
   "cell_type": "markdown",
   "metadata": {},
   "source": [
    "\n",
    "- Setting 25 species, 50 resources\n",
    "- 100 simulations were performed"
   ]
  },
  {
   "cell_type": "code",
   "execution_count": 2,
   "metadata": {},
   "outputs": [],
   "source": [
    "# Setting parametres\n",
    "N = 100\n",
    "M = 100\n",
    "#assemblenum = 1\n",
    "para = Paras(N, M)\n",
    "assemblies = 1"
   ]
  },
  {
   "cell_type": "code",
   "execution_count": 3,
   "metadata": {},
   "outputs": [],
   "source": [
    "Rt_assemblies = []\n",
    "Ct_assemblies = []\n",
    "time_assemblies = []\n",
    "para_assemblies = []"
   ]
  },
  {
   "cell_type": "code",
   "execution_count": 5,
   "metadata": {},
   "outputs": [],
   "source": [
    "# Run simulation\n",
    "start = dt.datetime.now()\n",
    "for i in range(assemblies):\n",
    "    Rt, Ct, t, para = sim_run(N, M, para, i, tstop=10e5, teval=10000)\n",
    "    Rt_assemblies.append(Rt)\n",
    "    Ct_assemblies.append(Ct)\n",
    "    para_assemblies.append(para)\n",
    "    time_assemblies.append(t)\n",
    "    print(f'Asembly {i+1} complete, runtime:{dt.datetime.now()-start}') if (i+1) %5==0 else None"
   ]
  },
  {
   "attachments": {},
   "cell_type": "markdown",
   "metadata": {},
   "source": [
    "### Store the data\n",
    "\n",
    "- Each Assembly will be stored in a dir called 'Abl_n' containing four files:\n",
    "    - Resource concentration -- Abl_n_Rt.npy\n",
    "    - Biomass concentration -- Abl_n_Ct.npy\n",
    "    - Parametre -- Abl_n_Para.pkl\n",
    "    - Time_series -- Abl_n_t.npy"
   ]
  },
  {
   "cell_type": "code",
   "execution_count": 6,
   "metadata": {},
   "outputs": [],
   "source": [
    "if not os.path.exists('..\\Data\\Asb'):\n",
    "    os.makedirs('..\\Data\\Asb')\n",
    "for i in range(1, len(Ct_assemblies)+1):\n",
    "\n",
    "    dir = f'..\\Data\\Asb\\Abl_{i}'\n",
    "    if not os.path.exists(dir):\n",
    "        os.makedirs(dir) \n",
    "\n",
    "    with open(dir + f'\\Abl_{i}_Ct.npy', 'wb') as f:\n",
    "        np.save(f, Ct_assemblies[i-1])\n",
    "    f.close()\n",
    "\n",
    "    with open(dir + f'\\Abl_{i}_Rt.npy', 'wb') as f:\n",
    "        np.save(f, Rt_assemblies[i-1])\n",
    "    f.close()\n",
    "\n",
    "    with open(dir + f'\\Abl_{i}_t.npy', 'wb') as f:\n",
    "        np.save(f, time_assemblies[i-1])\n",
    "    f.close()\n",
    "\n",
    "    with open(dir + f'\\Abl_{i}_Para.pkl', 'wb') as f:\n",
    "        pkl.dump(para_assemblies[i-1], f)\n",
    "    f.close()"
   ]
  },
  {
   "attachments": {},
   "cell_type": "markdown",
   "metadata": {},
   "source": [
    "## Subassemby runs"
   ]
  },
  {
   "cell_type": "code",
   "execution_count": 5,
   "metadata": {},
   "outputs": [],
   "source": [
    "# Setting parametres\n",
    "N = 100\n",
    "M = 100\n",
    "assemblenum = 1\n",
    "assemblies = 30\n",
    "subcommunity_size = 30\n",
    "num_subcommunity = 30"
   ]
  },
  {
   "cell_type": "code",
   "execution_count": 6,
   "metadata": {},
   "outputs": [
    {
     "name": "stdout",
     "output_type": "stream",
     "text": [
      "Initialisation completed!\n",
      "Subcommunity simulation 5 completed runtime:0:05:08.267648\n",
      "Subcommunity simulation 10 completed runtime:0:10:32.275424\n",
      "Subcommunity simulation 15 completed runtime:0:15:54.104556\n",
      "Subcommunity simulation 20 completed runtime:0:21:55.332622\n",
      "Subcommunity simulation 25 completed runtime:0:27:27.060831\n",
      "Subcommunity simulation 30 completed runtime:0:32:46.162688\n"
     ]
    }
   ],
   "source": [
    "R, C, t, para, idlist = sim_sub_run(N, M, assemblenum, 100000, 10000, subcommunity_size, num_subcommunity)"
   ]
  },
  {
   "attachments": {},
   "cell_type": "markdown",
   "metadata": {},
   "source": [
    "### Load data structure\n",
    "- data storage structure: FOLDER `sub_abl_beta=0.75` contains\n",
    "    - FOLDER `subabl_{i}`, each of which contains the following:\n",
    "        - Resource concentration -- `sAbl_n_Rt.npy`\n",
    "        - Biomass concentration -- `sAbl_n_Ct.npy`\n",
    "        - Parametre -- `sAbl_n_Para.pkl`\n",
    "        - Time_series -- `sAbl_n_t.npy`"
   ]
  },
  {
   "cell_type": "code",
   "execution_count": 8,
   "metadata": {},
   "outputs": [],
   "source": [
    "if not os.path.exists('..\\Data\\sub'):\n",
    "    os.makedirs('..\\Data\\sub')\n",
    "for i in range(1, num_subcommunity+1):\n",
    "\n",
    "    dir = f'..\\Data\\sub\\sAbl_{i}'\n",
    "    if not os.path.exists(dir):\n",
    "        os.makedirs(dir) \n",
    "\n",
    "    with open(dir + f'\\sAbl_{i}_Ct.npy', 'wb') as f:\n",
    "        np.save(f, C[i-1])\n",
    "    f.close()\n",
    "\n",
    "    with open(dir + f'\\sAbl_{i}_Rt.npy', 'wb') as f:\n",
    "        np.save(f, R[i-1])\n",
    "    f.close()\n",
    "\n",
    "    with open(dir + f'\\sAbl_{i}_t.npy', 'wb') as f:\n",
    "        np.save(f, t[i-1])\n",
    "    f.close()\n",
    "\n",
    "    with open(dir + f'\\sAbl_{i}_Para.pkl', 'wb') as f:\n",
    "        pkl.dump(para[i-1], f)\n",
    "    f.close()\n",
    "\n",
    "    with open(dir + f'\\sAbl_{i}speciesID.npy', 'wb') as f:\n",
    "        np.save(f, idlist[i-1])\n",
    "    f.close()"
   ]
  },
  {
   "attachments": {},
   "cell_type": "markdown",
   "metadata": {},
   "source": [
    "## Subassemby runs with varying w"
   ]
  },
  {
   "attachments": {},
   "cell_type": "markdown",
   "metadata": {},
   "source": [
    "- let `w=1` to `w=2` from uniform to left skewed distribution\n",
    "- Assuming each community has `subcommunity_size = 20` species selected from a pre-initialised species pool, each session consists of 30 communities for each value of `w`, where `w` will be binned into `50` values.\n",
    "- Modify `sim_sub_run` function, then we store our results"
   ]
  },
  {
   "cell_type": "code",
   "execution_count": 2,
   "metadata": {},
   "outputs": [],
   "source": [
    "## get w values\n",
    "w = np.linspace(1, 2, 50)\n",
    "\n",
    "## initialised data storage\n",
    "Rw = []\n",
    "Cw = []\n",
    "tw = []\n",
    "paraw = []\n",
    "idlist = []\n",
    "\n",
    "## initialised parametres\n",
    "N = 100\n",
    "M = 50\n",
    "assemblenum = 1\n",
    "assemblies = 30\n",
    "subcommunity_size = 20\n",
    "num_subcommunity = 30"
   ]
  },
  {
   "cell_type": "code",
   "execution_count": 10,
   "metadata": {},
   "outputs": [],
   "source": [
    "### initialised parametres to ensure each session uses the same set of species\n",
    "para = Paras(N, M)\n",
    "p, number = int_preferences(N, M, para.mu_c, assemblenum)\n",
    "D = int_conversion(M, para.Dbase, para.number, assemblenum, para.sparsity)\n",
    "l = int_l(M, para.l_base, assemblenum)\n",
    "rho = int_rho(M, para.rho_base, assemblenum)\n",
    "vmax = int_vmax(N, M, para.v_max_base, p, number, assemblenum)\n",
    "m = int_mt(N, para.m_base, assemblenum)"
   ]
  },
  {
   "cell_type": "code",
   "execution_count": 22,
   "metadata": {},
   "outputs": [],
   "source": [
    "def sim_sub_run(N, M, assemblenum, tstop, teval, subcommunity_size=10, num_subcommunity=20, scale=True, w=2):\n",
    "\n",
    "    # data storage\n",
    "    R_assembles = []\n",
    "    C_assembles = []\n",
    "    t_assembles = []\n",
    "    para_assembles = []\n",
    "    identifiers = []\n",
    "    model = Paras(N, M)\n",
    "    avgm_global = allocate_avgm(N, w, assemblenum, model.ymin, model.ymax)\n",
    "\n",
    "    # print(f'Initialisation completed!')\n",
    "    # start = dt.datetime.now()\n",
    "\n",
    "    # run sub_communities\n",
    "    for i in range(num_subcommunity):\n",
    "\n",
    "        para = Paras(subcommunity_size, M)\n",
    "        ## select corresponding species for subcommunity assemblies\n",
    "        rng = default_rng(seed=assemblenum+i+8*i)\n",
    "        idx = rng.choice(range(N), size=subcommunity_size, replace=False)\n",
    "        identifiers.append(idx)\n",
    "\n",
    "        # reset and initialised\n",
    "        new_p = p[idx, :]\n",
    "        new_vmax = vmax[idx, :]\n",
    "        new_m = m[idx, :]\n",
    "        para.w = w\n",
    "        avgm = avgm_global[idx]\n",
    "        # print(avgm)\n",
    "        ## Initialised Initial conditions\n",
    "        R0 = int_R(M, para.R0, assemblenum)\n",
    "        C0 = int_C(avgm, para.x0)\n",
    "\n",
    "       # Load parametres\n",
    "        para.paras(C0, R0, l, rho, new_p, new_vmax, new_m, D, avgm)\n",
    "        time = np.linspace(0, tstop, teval)\n",
    "        y0 = np.concatenate((R0, C0)).reshape(M+subcommunity_size,) # initial conditions\n",
    "        # run and store\n",
    "        if scale:\n",
    "            pars = (para.l, para.m, para.rho, para.mu, para.km, para.p, para.D, para.v_in_max, para.type, para.B0, para.M0, para.E0, para.alpha, para.beta, para.gamma, para.R_half, para.avgm)\n",
    "            result = solve_ivp(\n",
    "            odes_scale_size, t_span=[time[0], time[-1]], y0=y0, t_eval=time, args=pars, dense_output=True)\n",
    "        \n",
    "        if not scale:\n",
    "            pars = (para.l, para.m, para.rho, para.mu, para.km, para.p, para.D, para.v_in_max, para.type, para.R_half)\n",
    "            result = solve_ivp(odes_not_scaled, t_span=[time[0], time[-1]], y0=y0, t_eval=time, args=pars, dense_output=True)\n",
    "        \n",
    "        Rt = result['y'][0:M]\n",
    "        Ct = result['y'][M:M+subcommunity_size]\n",
    "        t = result['t']\n",
    "\n",
    "        # print(f'Subcommunity simulation {i+1} completed runtime:{dt.datetime.now()-start}') if (i+1)%5==0 else None\n",
    "\n",
    "        R_assembles.append(Rt)\n",
    "        C_assembles.append(Ct)\n",
    "        t_assembles.append(t)\n",
    "        para_assembles.append(para)\n",
    "\n",
    "    return R_assembles, C_assembles, t_assembles, para_assembles, identifiers"
   ]
  },
  {
   "cell_type": "code",
   "execution_count": 23,
   "metadata": {},
   "outputs": [
    {
     "name": "stdout",
     "output_type": "stream",
     "text": [
      "Subcommunity simulation 5 completed runtime:0:09:42.743656, w: 1.0816326530612246\n",
      "Subcommunity simulation 10 completed runtime:0:20:49.418348, w: 1.183673469387755\n",
      "Subcommunity simulation 15 completed runtime:0:33:19.030816, w: 1.2857142857142856\n",
      "Subcommunity simulation 20 completed runtime:0:46:44.858641, w: 1.3877551020408163\n",
      "Subcommunity simulation 25 completed runtime:1:01:17.858204, w: 1.489795918367347\n",
      "Subcommunity simulation 30 completed runtime:1:15:15.870946, w: 1.5918367346938775\n",
      "Subcommunity simulation 35 completed runtime:1:29:33.073026, w: 1.693877551020408\n",
      "Subcommunity simulation 40 completed runtime:1:45:58.217434, w: 1.7959183673469385\n",
      "Subcommunity simulation 45 completed runtime:2:03:47.493588, w: 1.8979591836734693\n",
      "Subcommunity simulation 50 completed runtime:2:18:56.374703, w: 2.0\n"
     ]
    }
   ],
   "source": [
    "# start running\n",
    "\n",
    "start = dt.datetime.now()\n",
    "for i, vals in enumerate(w):\n",
    "    R, C, t, parat, idxs = sim_sub_run(N, M, i, 1000000, 10000, subcommunity_size, num_subcommunity, True, vals)\n",
    "    Rw.append(R)\n",
    "    Cw.append(C)\n",
    "    tw.append(t)\n",
    "    paraw.append(parat)\n",
    "    idlist.append(idxs)\n",
    "    \n",
    "    print(f'Subcommunity simulation {i+1} completed runtime:{dt.datetime.now()-start}, w: {parat[0].w}')  if (i+1)%5==0 else None\n"
   ]
  },
  {
   "attachments": {},
   "cell_type": "markdown",
   "metadata": {},
   "source": [
    "- data storage structure: FOLDER `variedC` contains\n",
    "    - FOLDER `w_val`, each of which contains the following:\n",
    "        - Resource concentration -- `sAbl_n_Rt.npy`\n",
    "        - Biomass concentration -- `sAbl_n_Ct.npy`\n",
    "        - Parametre -- `sAbl_n_Para.pkl`\n",
    "        - Time_series -- `sAbl_n_t.npy` $\\newline$\n",
    "for every n"
   ]
  },
  {
   "cell_type": "code",
   "execution_count": 33,
   "metadata": {},
   "outputs": [],
   "source": [
    "## data storage\n",
    "if not os.path.exists('..\\Data\\\\variedC'):\n",
    "    os.mkdir('..\\Data\\\\variedC')\n",
    "\n",
    "for i, val in enumerate(w):\n",
    "\n",
    "    if 40 <= i < 50:\n",
    "\n",
    "        dir = f'..\\Data\\\\variedC\\w_{i+1}'\n",
    "        if not os.path.exists(dir): os.mkdir(dir)\n",
    "        \n",
    "        R = Rw[i]\n",
    "        C = Cw[i]\n",
    "        t = tw[i]\n",
    "        para = paraw[i]\n",
    "        idl = idlist[i]\n",
    "\n",
    "        for j in range(1, len(R)+1):\n",
    "            with open(dir + f'\\w{i+1}_sAbl_{j}_Ct.npy', 'wb') as f:\n",
    "                np.save(f, C[j-1])\n",
    "            f.close()\n",
    "\n",
    "            with open(dir + f'\\w{i+1}_sAbl_{j}_Rt.npy', 'wb') as f:\n",
    "                np.save(f, R[j-1])\n",
    "            f.close()\n",
    "\n",
    "            with open(dir + f'\\w{i+1}_sAbl_{j}_t.npy', 'wb') as f:\n",
    "                np.save(f, t[j-1])\n",
    "            f.close()\n",
    "\n",
    "            with open(dir + f'\\w{i+1}_sAbl_{j}_Para.pkl', 'wb') as f:\n",
    "                pkl.dump(para[j-1], f)\n",
    "            f.close()\n",
    "\n",
    "            with open(dir + f'\\w{i+1}_sAbl_{j}_speciesID.npy', 'wb') as f:\n",
    "                np.save(f, idl[j-1])\n",
    "            f.close()\n",
    "\n",
    "    else:\n",
    "        pass\n"
   ]
  }
 ],
 "metadata": {
  "kernelspec": {
   "display_name": "fyp",
   "language": "python",
   "name": "python3"
  },
  "language_info": {
   "codemirror_mode": {
    "name": "ipython",
    "version": 3
   },
   "file_extension": ".py",
   "mimetype": "text/x-python",
   "name": "python",
   "nbconvert_exporter": "python",
   "pygments_lexer": "ipython3",
   "version": "3.10.9"
  },
  "orig_nbformat": 4
 },
 "nbformat": 4,
 "nbformat_minor": 2
}
