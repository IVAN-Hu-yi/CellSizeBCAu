{
 "cells": [
  {
   "cell_type": "code",
   "execution_count": 1,
   "metadata": {},
   "outputs": [],
   "source": [
    "%matplotlib inline\n",
    "import numpy as np\n",
    "from scipy.integrate import solve_ivp\n",
    "from parametres import Paras\n",
    "from utilities import *\n",
    "from initialisation import *\n",
    "from odes import odes_scale_size\n",
    "import matplotlib.pyplot as plt\n",
    "from size_scaled_func import *\n",
    "import datetime as dt\n",
    "from simulation_func import *\n",
    "import pandas as pd\n",
    "import pickle as pkl\n",
    "import os\n",
    "from math import sqrt\n",
    "import simulation_func"
   ]
  },
  {
   "attachments": {},
   "cell_type": "markdown",
   "metadata": {},
   "source": [
    "# Running the Simulations"
   ]
  },
  {
   "attachments": {},
   "cell_type": "markdown",
   "metadata": {},
   "source": [
    "## Run without early stop"
   ]
  },
  {
   "attachments": {},
   "cell_type": "markdown",
   "metadata": {},
   "source": [
    "- First writing the stopping condition\n",
    "    - integration will stop if steady state is reached\n",
    "    - the tolerance will be `tol=1e-9`\n"
   ]
  },
  {
   "attachments": {},
   "cell_type": "markdown",
   "metadata": {},
   "source": [
    "\n",
    "- Setting 25 species, 50 resources\n",
    "- 100 simulations were performed"
   ]
  },
  {
   "cell_type": "code",
   "execution_count": 2,
   "metadata": {},
   "outputs": [],
   "source": [
    "# Setting parametres\n",
    "N = 50\n",
    "M = 100\n",
    "assemblenum = 1\n",
    "para = Paras(N, M)\n",
    "assemblies = 1"
   ]
  },
  {
   "cell_type": "code",
   "execution_count": 3,
   "metadata": {},
   "outputs": [],
   "source": [
    "p, number = int_preferences(N, M, para.mu_c, assemblenum)\n",
    "D = int_conversion(M, para.Dbase, para.number, assemblenum, para.sparsity)\n",
    "l = int_l(M, para.l_base, assemblenum)\n",
    "rho = int_rho(M, para.rho_base, assemblenum)\n",
    "vmax = int_vmax(N, M, para.v_max_base, p, number, assemblenum)\n",
    "m = int_mt(N, para.m_base, assemblenum)\n",
    "avgm = allocate_avgm(N, para.w, assemblenum, para.ymin, para.ymax)"
   ]
  },
  {
   "cell_type": "code",
   "execution_count": 4,
   "metadata": {},
   "outputs": [],
   "source": [
    "Rt_assemblies = []\n",
    "Ct_assemblies = []\n",
    "time_assemblies = []\n",
    "para_assemblies = []"
   ]
  },
  {
   "cell_type": "code",
   "execution_count": 5,
   "metadata": {},
   "outputs": [],
   "source": [
    "# Run simulation\n",
    "start = dt.datetime.now()\n",
    "for i in range(assemblies):\n",
    "    Rt, Ct, t, para = sim_run(N, M, para, i, tstop=50000, teval=10000)\n",
    "    Rt_assemblies.append(Rt)\n",
    "    Ct_assemblies.append(Ct)\n",
    "    para_assemblies.append(para)\n",
    "    time_assemblies.append(t)\n",
    "    print(f'Asembly {i+1} complete, runtime:{dt.datetime.now()-start}') if (i+1) %5==0 else None"
   ]
  },
  {
   "attachments": {},
   "cell_type": "markdown",
   "metadata": {},
   "source": [
    "### Store the data\n",
    "\n",
    "- Each Assembly will be stored in a dir called 'Abl_n' containing four files:\n",
    "    - Resource concentration -- Abl_n_Rt.npy\n",
    "    - Biomass concentration -- Abl_n_Ct.npy\n",
    "    - Parametre -- Abl_n_Para.pkl\n",
    "    - Time_series -- Abl_n_t.npy"
   ]
  },
  {
   "cell_type": "code",
   "execution_count": 7,
   "metadata": {},
   "outputs": [],
   "source": [
    "if not os.path.exists('..\\Data\\Asb'):\n",
    "    os.makedirs('..\\Data\\Asb')\n",
    "for i in range(1, len(Ct_assemblies)+1):\n",
    "\n",
    "    dir = f'..\\Data\\Asb\\Abl_{i}'\n",
    "    if not os.path.exists(dir):\n",
    "        os.makedirs(dir) \n",
    "\n",
    "    with open(dir + f'\\Abl_{i}_Ct.npy', 'wb') as f:\n",
    "        np.save(f, Ct_assemblies[i-1])\n",
    "    f.close()\n",
    "\n",
    "    with open(dir + f'\\Abl_{i}_Rt.npy', 'wb') as f:\n",
    "        np.save(f, Rt_assemblies[i-1])\n",
    "    f.close()\n",
    "\n",
    "    with open(dir + f'\\Abl_{i}_t.npy', 'wb') as f:\n",
    "        np.save(f, time_assemblies[i-1])\n",
    "    f.close()\n",
    "\n",
    "    with open(dir + f'\\Abl_{i}_Para.pkl', 'wb') as f:\n",
    "        pkl.dump(para_assemblies[i-1], f)\n",
    "    f.close()"
   ]
  },
  {
   "attachments": {},
   "cell_type": "markdown",
   "metadata": {},
   "source": [
    "# Stopping at Equlibrium state"
   ]
  },
  {
   "cell_type": "code",
   "execution_count": 14,
   "metadata": {},
   "outputs": [],
   "source": [
    "# Setting parametres\n",
    "N = 100\n",
    "M = 100\n",
    "subcommunity_size = 50\n",
    "num_subcommunity = 10\n",
    "tol = 1e-8"
   ]
  },
  {
   "cell_type": "code",
   "execution_count": 15,
   "metadata": {},
   "outputs": [
    {
     "name": "stdout",
     "output_type": "stream",
     "text": [
      "Initialisation completed!\n",
      "Subcommunity simulation 5 completed runtime:0:00:00.125623\n",
      "Subcommunity simulation 10 completed runtime:0:00:00.263293\n"
     ]
    }
   ],
   "source": [
    "# Run simulation\n",
    "Rt_assemblies, Ct_assemblies, time_assemblies, para_assemblies, idx_assemblies = sim_sub_run_tol(N, M, 1, tstop=10e5, teval=10000, subcommunity_size=subcommunity_size, num_subcommunity=num_subcommunity, tol=tol)"
   ]
  },
  {
   "cell_type": "code",
   "execution_count": 16,
   "metadata": {},
   "outputs": [],
   "source": [
    "if not os.path.exists('..\\Data\\eqAsb'):\n",
    "    os.makedirs('..\\Data\\eqAsb')\n",
    "for i in range(1, len(Ct_assemblies)+1):\n",
    "\n",
    "    dir = f'..\\Data\\eqAsb\\eqAbl_{i}'\n",
    "    if not os.path.exists(dir):\n",
    "        os.makedirs(dir) \n",
    "\n",
    "    with open(dir + f'\\eqAbl_{i}_Ct.npy', 'wb') as f:\n",
    "        np.save(f, Ct_assemblies[i-1])\n",
    "    f.close()\n",
    "\n",
    "    with open(dir + f'\\eqAbl_{i}_Rt.npy', 'wb') as f:\n",
    "        np.save(f, Rt_assemblies[i-1])\n",
    "    f.close()\n",
    "\n",
    "    with open(dir + f'\\eqAbl_{i}_t.npy', 'wb') as f:\n",
    "        np.save(f, time_assemblies[i-1])\n",
    "    f.close()\n",
    "\n",
    "    with open(dir + f'\\eqAbl_{i}_Para.pkl', 'wb') as f:\n",
    "        pkl.dump(para_assemblies[i-1], f)\n",
    "    f.close()\n",
    "\n",
    "    with open(dir + f'\\Abl_{i}_ID.npy', 'wb') as f:\n",
    "        np.save(f, idx_assemblies[i-1])\n",
    "    f.close()"
   ]
  },
  {
   "attachments": {},
   "cell_type": "markdown",
   "metadata": {},
   "source": [
    "## Subassemby runs without terminating conditions"
   ]
  },
  {
   "cell_type": "code",
   "execution_count": 17,
   "metadata": {},
   "outputs": [],
   "source": [
    "# Setting parametres\n",
    "N = 100\n",
    "M = 100\n",
    "assemblenum = 1\n",
    "assemblies = 10\n",
    "subcommunity_size = 0\n",
    "num_subcommunity = 30"
   ]
  },
  {
   "cell_type": "code",
   "execution_count": 18,
   "metadata": {},
   "outputs": [
    {
     "name": "stdout",
     "output_type": "stream",
     "text": [
      "Initialisation completed!\n",
      "Subcommunity simulation 5 completed runtime:0:00:00.090379\n",
      "Subcommunity simulation 10 completed runtime:0:00:00.176964\n",
      "Subcommunity simulation 15 completed runtime:0:00:00.273563\n",
      "Subcommunity simulation 20 completed runtime:0:00:00.362147\n",
      "Subcommunity simulation 25 completed runtime:0:00:00.455363\n",
      "Subcommunity simulation 30 completed runtime:0:00:00.550488\n"
     ]
    }
   ],
   "source": [
    "R, C, t, para, idlist = sim_sub_run(N, M, assemblenum, 400000, 10000, subcommunity_size, num_subcommunity)"
   ]
  },
  {
   "attachments": {},
   "cell_type": "markdown",
   "metadata": {},
   "source": [
    "### Load data structure\n",
    "- data storage structure: FOLDER `sub_abl_beta=0.75` contains\n",
    "    - FOLDER `subabl_{i}`, each of which contains the following:\n",
    "        - Resource concentration -- `sAbl_n_Rt.npy`\n",
    "        - Biomass concentration -- `sAbl_n_Ct.npy`\n",
    "        - Parametre -- `sAbl_n_Para.pkl`\n",
    "        - Time_series -- `sAbl_n_t.npy`"
   ]
  },
  {
   "cell_type": "code",
   "execution_count": 19,
   "metadata": {},
   "outputs": [
    {
     "ename": "KeyboardInterrupt",
     "evalue": "",
     "output_type": "error",
     "traceback": [
      "\u001b[1;31m---------------------------------------------------------------------------\u001b[0m",
      "\u001b[1;31mKeyboardInterrupt\u001b[0m                         Traceback (most recent call last)",
      "\u001b[1;32mf:\\Study\\FYP\\CellSizeBCAu\\Code\\simulation.ipynb Cell 19\u001b[0m in \u001b[0;36m<cell line: 3>\u001b[1;34m()\u001b[0m\n\u001b[0;32m     <a href='vscode-notebook-cell:/f%3A/Study/FYP/CellSizeBCAu/Code/simulation.ipynb#X24sZmlsZQ%3D%3D?line=10'>11</a>\u001b[0m f\u001b[39m.\u001b[39mclose()\n\u001b[0;32m     <a href='vscode-notebook-cell:/f%3A/Study/FYP/CellSizeBCAu/Code/simulation.ipynb#X24sZmlsZQ%3D%3D?line=12'>13</a>\u001b[0m \u001b[39mwith\u001b[39;00m \u001b[39mopen\u001b[39m(\u001b[39mdir\u001b[39m \u001b[39m+\u001b[39m \u001b[39mf\u001b[39m\u001b[39m'\u001b[39m\u001b[39m\\\u001b[39m\u001b[39msAbl_\u001b[39m\u001b[39m{\u001b[39;00mi\u001b[39m}\u001b[39;00m\u001b[39m_Rt.npy\u001b[39m\u001b[39m'\u001b[39m, \u001b[39m'\u001b[39m\u001b[39mwb\u001b[39m\u001b[39m'\u001b[39m) \u001b[39mas\u001b[39;00m f:\n\u001b[1;32m---> <a href='vscode-notebook-cell:/f%3A/Study/FYP/CellSizeBCAu/Code/simulation.ipynb#X24sZmlsZQ%3D%3D?line=13'>14</a>\u001b[0m     np\u001b[39m.\u001b[39;49msave(f, R[i\u001b[39m-\u001b[39;49m\u001b[39m1\u001b[39;49m])\n\u001b[0;32m     <a href='vscode-notebook-cell:/f%3A/Study/FYP/CellSizeBCAu/Code/simulation.ipynb#X24sZmlsZQ%3D%3D?line=14'>15</a>\u001b[0m f\u001b[39m.\u001b[39mclose()\n\u001b[0;32m     <a href='vscode-notebook-cell:/f%3A/Study/FYP/CellSizeBCAu/Code/simulation.ipynb#X24sZmlsZQ%3D%3D?line=16'>17</a>\u001b[0m \u001b[39mwith\u001b[39;00m \u001b[39mopen\u001b[39m(\u001b[39mdir\u001b[39m \u001b[39m+\u001b[39m \u001b[39mf\u001b[39m\u001b[39m'\u001b[39m\u001b[39m\\\u001b[39m\u001b[39msAbl_\u001b[39m\u001b[39m{\u001b[39;00mi\u001b[39m}\u001b[39;00m\u001b[39m_t.npy\u001b[39m\u001b[39m'\u001b[39m, \u001b[39m'\u001b[39m\u001b[39mwb\u001b[39m\u001b[39m'\u001b[39m) \u001b[39mas\u001b[39;00m f:\n",
      "File \u001b[1;32m<__array_function__ internals>:200\u001b[0m, in \u001b[0;36msave\u001b[1;34m(*args, **kwargs)\u001b[0m\n",
      "File \u001b[1;32mf:\\Anaconda3\\envs\\fyp\\lib\\site-packages\\numpy\\lib\\npyio.py:522\u001b[0m, in \u001b[0;36msave\u001b[1;34m(file, arr, allow_pickle, fix_imports)\u001b[0m\n\u001b[0;32m    520\u001b[0m \u001b[39mwith\u001b[39;00m file_ctx \u001b[39mas\u001b[39;00m fid:\n\u001b[0;32m    521\u001b[0m     arr \u001b[39m=\u001b[39m np\u001b[39m.\u001b[39masanyarray(arr)\n\u001b[1;32m--> 522\u001b[0m     \u001b[39mformat\u001b[39;49m\u001b[39m.\u001b[39;49mwrite_array(fid, arr, allow_pickle\u001b[39m=\u001b[39;49mallow_pickle,\n\u001b[0;32m    523\u001b[0m                        pickle_kwargs\u001b[39m=\u001b[39;49m\u001b[39mdict\u001b[39;49m(fix_imports\u001b[39m=\u001b[39;49mfix_imports))\n",
      "File \u001b[1;32mf:\\Anaconda3\\envs\\fyp\\lib\\site-packages\\numpy\\lib\\format.py:722\u001b[0m, in \u001b[0;36mwrite_array\u001b[1;34m(fp, array, version, allow_pickle, pickle_kwargs)\u001b[0m\n\u001b[0;32m    720\u001b[0m \u001b[39melse\u001b[39;00m:\n\u001b[0;32m    721\u001b[0m     \u001b[39mif\u001b[39;00m isfileobj(fp):\n\u001b[1;32m--> 722\u001b[0m         array\u001b[39m.\u001b[39;49mtofile(fp)\n\u001b[0;32m    723\u001b[0m     \u001b[39melse\u001b[39;00m:\n\u001b[0;32m    724\u001b[0m         \u001b[39mfor\u001b[39;00m chunk \u001b[39min\u001b[39;00m numpy\u001b[39m.\u001b[39mnditer(\n\u001b[0;32m    725\u001b[0m                 array, flags\u001b[39m=\u001b[39m[\u001b[39m'\u001b[39m\u001b[39mexternal_loop\u001b[39m\u001b[39m'\u001b[39m, \u001b[39m'\u001b[39m\u001b[39mbuffered\u001b[39m\u001b[39m'\u001b[39m, \u001b[39m'\u001b[39m\u001b[39mzerosize_ok\u001b[39m\u001b[39m'\u001b[39m],\n\u001b[0;32m    726\u001b[0m                 buffersize\u001b[39m=\u001b[39mbuffersize, order\u001b[39m=\u001b[39m\u001b[39m'\u001b[39m\u001b[39mC\u001b[39m\u001b[39m'\u001b[39m):\n",
      "\u001b[1;31mKeyboardInterrupt\u001b[0m: "
     ]
    }
   ],
   "source": [
    "if not os.path.exists('..\\Data\\sub'):\n",
    "    os.makedirs('..\\Data\\sub')\n",
    "for i in range(1, num_subcommunity+1):\n",
    "\n",
    "    dir = f'..\\Data\\sub\\sAbl_{i}'\n",
    "    if not os.path.exists(dir):\n",
    "        os.makedirs(dir) \n",
    "\n",
    "    with open(dir + f'\\sAbl_{i}_Ct.npy', 'wb') as f:\n",
    "        np.save(f, C[i-1])\n",
    "    f.close()\n",
    "\n",
    "    with open(dir + f'\\sAbl_{i}_Rt.npy', 'wb') as f:\n",
    "        np.save(f, R[i-1])\n",
    "    f.close()\n",
    "\n",
    "    with open(dir + f'\\sAbl_{i}_t.npy', 'wb') as f:\n",
    "        np.save(f, t[i-1])\n",
    "    f.close()\n",
    "\n",
    "    with open(dir + f'\\sAbl_{i}_Para.pkl', 'wb') as f:\n",
    "        pkl.dump(para[i-1], f)\n",
    "    f.close()\n",
    "\n",
    "    with open(dir + f'\\sAbl_{i}speciesID.npy', 'wb') as f:\n",
    "        np.save(f, idlist[i-1])\n",
    "    f.close()"
   ]
  },
  {
   "attachments": {},
   "cell_type": "markdown",
   "metadata": {},
   "source": [
    "## Subassemby runs with varying w"
   ]
  },
  {
   "attachments": {},
   "cell_type": "markdown",
   "metadata": {},
   "source": [
    "- let `w=1` to `w=2` from uniform to left skewed distribution\n",
    "- Assuming each community has `subcommunity_size = 30` species selected from a pre-initialised species pool, each session consists of 30 communities for each value of `w`, where `w` will be binned into `50` values.\n",
    "- Modify `sim_sub_run` function, then we store our results"
   ]
  },
  {
   "cell_type": "code",
   "execution_count": 16,
   "metadata": {},
   "outputs": [],
   "source": [
    "## get w values\n",
    "w = np.linspace(1, 2, 50)\n",
    "\n",
    "## initialised data storage\n",
    "Rw = []\n",
    "Cw = []\n",
    "tw = []\n",
    "paraw = []\n",
    "idlist = []\n",
    "\n",
    "## initialised parametres\n",
    "N = 100\n",
    "M = 100\n",
    "assemblenum = 1\n",
    "assemblies = 30\n",
    "subcommunity_size = 50\n",
    "num_subcommunity = 30"
   ]
  },
  {
   "cell_type": "code",
   "execution_count": 17,
   "metadata": {},
   "outputs": [],
   "source": [
    "### initialised parametres to ensure each session uses the same set of species\n",
    "para = Paras(N, M)\n",
    "p, number = int_preferences(N, M, para.mu_c, assemblenum)\n",
    "D = int_conversion(M, para.Dbase, para.number, assemblenum, para.sparsity)\n",
    "l = int_l(M, para.l_base, assemblenum)\n",
    "rho = int_rho(M, para.rho_base, assemblenum)\n",
    "vmax = int_vmax(N, M, para.v_max_base, p, number, assemblenum)\n",
    "m = int_mt(N, para.m_base, assemblenum)"
   ]
  },
  {
   "cell_type": "code",
   "execution_count": 10,
   "metadata": {},
   "outputs": [],
   "source": [
    "def sim_sub_run(N, M, assemblenum, tstop, teval, subcommunity_size=10, num_subcommunity=20, scale=True, w=2):\n",
    "\n",
    "    # data storage\n",
    "    R_assembles = []\n",
    "    C_assembles = []\n",
    "    t_assembles = []\n",
    "    para_assembles = []\n",
    "    identifiers = []\n",
    "    model = Paras(N, M)\n",
    "    avgm_global = allocate_avgm(N, w, assemblenum, model.ymin, model.ymax)\n",
    "\n",
    "    # print(f'Initialisation completed!')\n",
    "    # start = dt.datetime.now()\n",
    "\n",
    "    # run sub_communities\n",
    "    for i in range(num_subcommunity):\n",
    "\n",
    "        para = Paras(subcommunity_size, M)\n",
    "        ## select corresponding species for subcommunity assemblies\n",
    "        rng = default_rng(seed=assemblenum+i+8*i)\n",
    "        idx = rng.choice(range(N), size=subcommunity_size, replace=False)\n",
    "        identifiers.append(idx)\n",
    "\n",
    "        # reset and initialised\n",
    "        new_p = p[idx, :]\n",
    "        new_vmax = vmax[idx, :]\n",
    "        new_m = m[idx, :]\n",
    "        para.w = w\n",
    "        avgm = avgm_global[idx]\n",
    "        # print(avgm)\n",
    "        ## Initialised Initial conditions\n",
    "        R0 = int_R(M, para.R0, assemblenum)\n",
    "        C0 = int_C(avgm, para.x0)\n",
    "\n",
    "       # Load parametres\n",
    "        para.paras(C0, R0, l, rho, new_p, new_vmax, new_m, D, avgm)\n",
    "        time = np.linspace(0, tstop, teval)\n",
    "        y0 = np.concatenate((R0, C0)).reshape(M+subcommunity_size,) # initial conditions\n",
    "        # run and store\n",
    "        if scale:\n",
    "            pars = (para.l, para.m, para.rho, para.mu, para.km, para.p, para.D, para.v_in_max, para.type, para.B0, para.M0, para.E0, para.alpha, para.beta, para.gamma, para.R_half, para.avgm)\n",
    "            result = solve_ivp(\n",
    "            odes_scale_size, t_span=[time[0], time[-1]], y0=y0, t_eval=time, args=pars, dense_output=True)\n",
    "        \n",
    "        if not scale:\n",
    "            pars = (para.l, para.m, para.rho, para.mu, para.km, para.p, para.D, para.v_in_max, para.type, para.R_half)\n",
    "            result = solve_ivp(odes_not_scaled, t_span=[time[0], time[-1]], y0=y0, t_eval=time, args=pars, dense_output=True)\n",
    "        \n",
    "        Rt = result['y'][0:M]\n",
    "        Ct = result['y'][M:M+subcommunity_size]\n",
    "        t = result['t']\n",
    "\n",
    "        # print(f'Subcommunity simulation {i+1} completed runtime:{dt.datetime.now()-start}') if (i+1)%5==0 else None\n",
    "\n",
    "        R_assembles.append(Rt)\n",
    "        C_assembles.append(Ct)\n",
    "        t_assembles.append(t)\n",
    "        para_assembles.append(para)\n",
    "\n",
    "    return R_assembles, C_assembles, t_assembles, para_assembles, identifiers"
   ]
  },
  {
   "cell_type": "code",
   "execution_count": null,
   "metadata": {},
   "outputs": [
    {
     "name": "stdout",
     "output_type": "stream",
     "text": [
      "Subcommunity simulation 5 completed runtime:0:09:42.743656, w: 1.0816326530612246\n",
      "Subcommunity simulation 10 completed runtime:0:20:49.418348, w: 1.183673469387755\n",
      "Subcommunity simulation 15 completed runtime:0:33:19.030816, w: 1.2857142857142856\n",
      "Subcommunity simulation 20 completed runtime:0:46:44.858641, w: 1.3877551020408163\n",
      "Subcommunity simulation 25 completed runtime:1:01:17.858204, w: 1.489795918367347\n",
      "Subcommunity simulation 30 completed runtime:1:15:15.870946, w: 1.5918367346938775\n",
      "Subcommunity simulation 35 completed runtime:1:29:33.073026, w: 1.693877551020408\n",
      "Subcommunity simulation 40 completed runtime:1:45:58.217434, w: 1.7959183673469385\n",
      "Subcommunity simulation 45 completed runtime:2:03:47.493588, w: 1.8979591836734693\n",
      "Subcommunity simulation 50 completed runtime:2:18:56.374703, w: 2.0\n"
     ]
    }
   ],
   "source": [
    "# start running\n",
    "\n",
    "start = dt.datetime.now()\n",
    "for i, vals in enumerate(w):\n",
    "    R, C, t, parat, idxs = sim_sub_run(N, M, i, 50000, 10000, subcommunity_size, num_subcommunity, True, vals)\n",
    "    Rw.append(R)\n",
    "    Cw.append(C)\n",
    "    tw.append(t)\n",
    "    paraw.append(parat)\n",
    "    idlist.append(idxs)\n",
    "    \n",
    "    print(f'Subcommunity simulation {i+1} completed runtime:{dt.datetime.now()-start}, w: {parat[0].w}')  if (i+1)%5==0 else None\n"
   ]
  },
  {
   "attachments": {},
   "cell_type": "markdown",
   "metadata": {},
   "source": [
    "- data storage structure: FOLDER `variedC` contains\n",
    "    - FOLDER `w_val`, each of which contains the following:\n",
    "        - Resource concentration -- `sAbl_n_Rt.npy`\n",
    "        - Biomass concentration -- `sAbl_n_Ct.npy`\n",
    "        - Parametre -- `sAbl_n_Para.pkl`\n",
    "        - Time_series -- `sAbl_n_t.npy` $\\newline$\n",
    "for every n"
   ]
  },
  {
   "cell_type": "code",
   "execution_count": null,
   "metadata": {},
   "outputs": [],
   "source": [
    "## data storage\n",
    "if not os.path.exists('..\\Data\\\\variedC'):\n",
    "    os.mkdir('..\\Data\\\\variedC')\n",
    "\n",
    "for i, val in enumerate(w):\n",
    "\n",
    "    if 40 <= i < 50:\n",
    "\n",
    "        dir = f'..\\Data\\\\variedC\\w_{i+1}'\n",
    "        if not os.path.exists(dir): os.mkdir(dir)\n",
    "        \n",
    "        R = Rw[i]\n",
    "        C = Cw[i]\n",
    "        t = tw[i]\n",
    "        para = paraw[i]\n",
    "        idl = idlist[i]\n",
    "\n",
    "        for j in range(1, len(R)+1):\n",
    "            with open(dir + f'\\w{i+1}_sAbl_{j}_Ct.npy', 'wb') as f:\n",
    "                np.save(f, C[j-1])\n",
    "            f.close()\n",
    "\n",
    "            with open(dir + f'\\w{i+1}_sAbl_{j}_Rt.npy', 'wb') as f:\n",
    "                np.save(f, R[j-1])\n",
    "            f.close()\n",
    "\n",
    "            with open(dir + f'\\w{i+1}_sAbl_{j}_t.npy', 'wb') as f:\n",
    "                np.save(f, t[j-1])\n",
    "            f.close()\n",
    "\n",
    "            with open(dir + f'\\w{i+1}_sAbl_{j}_Para.pkl', 'wb') as f:\n",
    "                pkl.dump(para[j-1], f)\n",
    "            f.close()\n",
    "\n",
    "            with open(dir + f'\\w{i+1}_sAbl_{j}_speciesID.npy', 'wb') as f:\n",
    "                np.save(f, idl[j-1])\n",
    "            f.close()\n",
    "\n",
    "    else:\n",
    "        pass\n"
   ]
  },
  {
   "attachments": {},
   "cell_type": "markdown",
   "metadata": {},
   "source": [
    "## Assemby runs with varying w (without early stop)"
   ]
  },
  {
   "cell_type": "code",
   "execution_count": 30,
   "metadata": {},
   "outputs": [],
   "source": [
    "N = 50\n",
    "M = 100\n",
    "paras = Paras(N, M)\n",
    "tol=1e-3"
   ]
  },
  {
   "cell_type": "code",
   "execution_count": 31,
   "metadata": {},
   "outputs": [],
   "source": [
    "def sim_run_tols(N, M, para:Paras, assemblenum, tstop, teval, scale=True, tol=1e-4, w=2):\n",
    "\n",
    "    ### initialised parametres with equilibrium early stop\n",
    "    # para = Paras(N, M)\n",
    "    p, number = int_preferences(N, M, para.mu_c, assemblenum)\n",
    "    D = int_conversion(M, para.Dbase, para.number, assemblenum, para.sparsity)\n",
    "    l = int_l(M, para.l_base, assemblenum)\n",
    "    rho = int_rho(M, para.rho_base, assemblenum)\n",
    "    vmax = int_vmax(N, M, para.v_max_base, p, number, assemblenum)\n",
    "    m = int_mt(N, para.m_base, assemblenum)\n",
    "    para.w = w\n",
    "    avgm = allocate_avgm(N, w, assemblenum, para.ymin, para.ymax)\n",
    "\n",
    "    ## Initialised Initial conditions\n",
    "    R0 = int_R(M, para.R0, assemblenum)\n",
    "    C0 = int_C(avgm, para.x0)\n",
    "\n",
    "    # Load parametres\n",
    "    para.paras(C0, R0, l, rho, p, vmax, m, D, avgm)\n",
    "    time = np.linspace(0, tstop, teval)\n",
    "    y0 = np.concatenate((R0, C0)).reshape(M+N,) # initial conditions\n",
    "\n",
    "    # run and store\n",
    "    if scale:\n",
    "        pars = (para.l, para.m, para.rho, para.mu, para.km, para.p, para.D, para.v_in_max, para.type, para.B0, para.M0, para.E0, para.alpha, para.beta, para.gamma, para.R_half, para.avgm)\n",
    "\n",
    "        odec = lambda t, y:odes_scale_size(t, y, *pars)\n",
    "        detect_ss_odec = lambda t, y: detect_steady_state(t, y,*pars, tol, N)\n",
    "        detect_ss_odec.terminal = True\n",
    "        # detect_ss_odec.direction = 0\n",
    "        \n",
    "        result = solve_ivp(\n",
    "        odes_scale_size, t_span=[time[0], time[-1]], args=pars, y0=y0, t_eval=time, dense_output=True)\n",
    "    \n",
    "    if not scale:\n",
    "        pars = (para.l, para.m, para.rho, para.mu, para.km, para.p, para.D, para.v_in_max, para.type, para.R_half)\n",
    "        result = solve_ivp(odes_not_scaled, t_span=[time[0], time[-1]], y0=y0, t_eval=time, args=pars, dense_output=True)\n",
    "\n",
    "    Rt = result['y'][0:M]\n",
    "    Ct = result['y'][M:M+N]\n",
    "    t = result['t']\n",
    "    # Ct = extract_Ct_single_assembly(Ct)\n",
    "    \n",
    "    return Rt, Ct, t, para"
   ]
  },
  {
   "cell_type": "code",
   "execution_count": 32,
   "metadata": {},
   "outputs": [],
   "source": [
    "RtA = []\n",
    "CtA = []\n",
    "ttA = []\n",
    "paraA = []"
   ]
  },
  {
   "cell_type": "code",
   "execution_count": 33,
   "metadata": {},
   "outputs": [
    {
     "name": "stdout",
     "output_type": "stream",
     "text": [
      "Subcommunity simulation 5 completed runtime:0:21:17.931479, w: 1.0816326530612246\n",
      "Subcommunity simulation 10 completed runtime:0:45:56.496456, w: 1.183673469387755\n",
      "Subcommunity simulation 15 completed runtime:1:11:54.493662, w: 1.2857142857142856\n",
      "Subcommunity simulation 20 completed runtime:1:36:51.331152, w: 1.3877551020408163\n",
      "Subcommunity simulation 25 completed runtime:2:00:05.537662, w: 1.489795918367347\n",
      "Subcommunity simulation 30 completed runtime:2:22:38.518108, w: 1.5918367346938775\n",
      "Subcommunity simulation 35 completed runtime:2:44:20.217230, w: 1.693877551020408\n",
      "Subcommunity simulation 40 completed runtime:3:07:01.145699, w: 1.7959183673469385\n",
      "Subcommunity simulation 45 completed runtime:3:28:59.860883, w: 1.8979591836734693\n",
      "Subcommunity simulation 50 completed runtime:3:50:23.725077, w: 2.0\n"
     ]
    }
   ],
   "source": [
    "warray = np.linspace(1, 2, 50)\n",
    "start = dt.datetime.now()\n",
    "for i, w in enumerate(warray):\n",
    "    R, C, t, para = sim_run_tols(N, M, paras, 1, 50000, 10000, tol=tol, w=w)\n",
    "    RtA.append(R)\n",
    "    CtA.append(C)\n",
    "    ttA.append(t)\n",
    "    paraA.append(para)\n",
    "    print(f'Subcommunity simulation {i+1} completed runtime:{dt.datetime.now()-start}, w: {para.w}') if (i+1)%5==0 else None"
   ]
  },
  {
   "cell_type": "code",
   "execution_count": 34,
   "metadata": {},
   "outputs": [
    {
     "data": {
      "text/plain": [
       "array([1.        , 1.02040816, 1.04081633, 1.06122449, 1.08163265,\n",
       "       1.10204082, 1.12244898, 1.14285714, 1.16326531, 1.18367347,\n",
       "       1.20408163, 1.2244898 , 1.24489796, 1.26530612, 1.28571429,\n",
       "       1.30612245, 1.32653061, 1.34693878, 1.36734694, 1.3877551 ,\n",
       "       1.40816327, 1.42857143, 1.44897959, 1.46938776, 1.48979592,\n",
       "       1.51020408, 1.53061224, 1.55102041, 1.57142857, 1.59183673,\n",
       "       1.6122449 , 1.63265306, 1.65306122, 1.67346939, 1.69387755,\n",
       "       1.71428571, 1.73469388, 1.75510204, 1.7755102 , 1.79591837,\n",
       "       1.81632653, 1.83673469, 1.85714286, 1.87755102, 1.89795918,\n",
       "       1.91836735, 1.93877551, 1.95918367, 1.97959184, 2.        ])"
      ]
     },
     "execution_count": 34,
     "metadata": {},
     "output_type": "execute_result"
    }
   ],
   "source": [
    "warray"
   ]
  },
  {
   "cell_type": "code",
   "execution_count": 36,
   "metadata": {},
   "outputs": [],
   "source": [
    "if not os.path.exists('..\\Data\\\\varyw'):\n",
    "    os.mkdir('..\\Data\\\\varyw')\n",
    "\n",
    "for i, val in enumerate(warray):\n",
    "\n",
    "    dir = f'..\\Data\\\\varyw\\w_{round(val, 2)}'\n",
    "    if not os.path.exists(dir):\n",
    "        os.mkdir(dir)\n",
    "    with open(dir + '\\\\vw_Ct.npy', 'wb') as f:\n",
    "        np.save(f, CtA[i])\n",
    "    f.close()\n",
    "    with open(dir + '\\\\vw_Rt.npy', 'wb') as f:\n",
    "        np.save(f, RtA[i])\n",
    "    f.close()\n",
    "    with open(dir + '\\\\vw_tt.npy', 'wb') as f:\n",
    "        np.save(f, ttA[i])\n",
    "    f.close()\n",
    "    with open(dir + '\\\\vw_para.pkl', 'wb') as f:\n",
    "        pkl.dump(paraA[i], f)\n",
    "    f.close()\n"
   ]
  },
  {
   "attachments": {},
   "cell_type": "markdown",
   "metadata": {},
   "source": [
    "# Explore parametre space\n",
    "\n",
    "- vary `para.B0` and `para.alpha` using latin cube sampling"
   ]
  },
  {
   "cell_type": "code",
   "execution_count": 7,
   "metadata": {},
   "outputs": [],
   "source": [
    "# Setting parametres\n",
    "N = 50\n",
    "M = 100\n",
    "assemblenum = 1\n",
    "para = Paras(N, M)\n",
    "assemblies = 1"
   ]
  },
  {
   "cell_type": "code",
   "execution_count": 8,
   "metadata": {},
   "outputs": [],
   "source": [
    "from scipy import stats"
   ]
  },
  {
   "cell_type": "code",
   "execution_count": 9,
   "metadata": {},
   "outputs": [],
   "source": [
    "sampler = stats.qmc.LatinHypercube(2, seed=10)\n",
    "sample = sampler.random(15)\n",
    "l_bound = [0.1, 0.1]\n",
    "u_bound = [1, 5]\n",
    "sample = stats.qmc.scale(sample, l_bound, u_bound)"
   ]
  },
  {
   "cell_type": "code",
   "execution_count": 16,
   "metadata": {},
   "outputs": [],
   "source": [
    "Rt, Ct, t, para = sim_run(N, M, para, 1, tstop=50000, teval=10000)"
   ]
  },
  {
   "cell_type": "code",
   "execution_count": null,
   "metadata": {},
   "outputs": [],
   "source": []
  }
 ],
 "metadata": {
  "kernelspec": {
   "display_name": "fyp",
   "language": "python",
   "name": "python3"
  },
  "language_info": {
   "codemirror_mode": {
    "name": "ipython",
    "version": 3
   },
   "file_extension": ".py",
   "mimetype": "text/x-python",
   "name": "python",
   "nbconvert_exporter": "python",
   "pygments_lexer": "ipython3",
   "version": "3.10.9"
  },
  "orig_nbformat": 4
 },
 "nbformat": 4,
 "nbformat_minor": 2
}
