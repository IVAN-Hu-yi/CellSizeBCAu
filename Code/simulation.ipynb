{
 "cells": [
  {
   "cell_type": "code",
   "execution_count": 1,
   "metadata": {},
   "outputs": [],
   "source": [
    "%matplotlib inline\n",
    "import numpy as np\n",
    "from scipy.integrate import solve_ivp\n",
    "from parametres import Paras\n",
    "from utilities import *\n",
    "from initialisation import *\n",
    "from odes import odes_scale_size\n",
    "import matplotlib.pyplot as plt\n",
    "from size_scaled_func import *\n",
    "import datetime as dt\n",
    "from simulation_func import *\n",
    "import pandas as pd\n",
    "import pickle as pkl\n",
    "import os"
   ]
  },
  {
   "attachments": {},
   "cell_type": "markdown",
   "metadata": {},
   "source": [
    "# Running the Simulations"
   ]
  },
  {
   "attachments": {},
   "cell_type": "markdown",
   "metadata": {},
   "source": [
    "## Repeated runs of 30"
   ]
  },
  {
   "attachments": {},
   "cell_type": "markdown",
   "metadata": {},
   "source": [
    "\n",
    "- Setting 25 species, 50 resources\n",
    "- 100 simulations were performed"
   ]
  },
  {
   "cell_type": "code",
   "execution_count": 7,
   "metadata": {},
   "outputs": [],
   "source": [
    "# Setting parametres\n",
    "N = 100\n",
    "M = 50\n",
    "#assemblenum = 1\n",
    "para = Paras(N, M)\n",
    "assemblies = 30"
   ]
  },
  {
   "cell_type": "code",
   "execution_count": 8,
   "metadata": {},
   "outputs": [],
   "source": [
    "Rt_assemblies = []\n",
    "Ct_assemblies = []\n",
    "time_assemblies = []\n",
    "para_assemblies = []"
   ]
  },
  {
   "cell_type": "code",
   "execution_count": 9,
   "metadata": {},
   "outputs": [
    {
     "ename": "KeyboardInterrupt",
     "evalue": "",
     "output_type": "error",
     "traceback": [
      "\u001b[1;31m---------------------------------------------------------------------------\u001b[0m",
      "\u001b[1;31mKeyboardInterrupt\u001b[0m                         Traceback (most recent call last)",
      "\u001b[1;32mf:\\Study\\FYP\\CellSizeBCA\\Code\\simulation.ipynb Cell 6\u001b[0m in \u001b[0;36m<cell line: 3>\u001b[1;34m()\u001b[0m\n\u001b[0;32m      <a href='vscode-notebook-cell:/f%3A/Study/FYP/CellSizeBCA/Code/simulation.ipynb#W5sZmlsZQ%3D%3D?line=1'>2</a>\u001b[0m start \u001b[39m=\u001b[39m dt\u001b[39m.\u001b[39mdatetime\u001b[39m.\u001b[39mnow()\n\u001b[0;32m      <a href='vscode-notebook-cell:/f%3A/Study/FYP/CellSizeBCA/Code/simulation.ipynb#W5sZmlsZQ%3D%3D?line=2'>3</a>\u001b[0m \u001b[39mfor\u001b[39;00m i \u001b[39min\u001b[39;00m \u001b[39mrange\u001b[39m(assemblies):\n\u001b[1;32m----> <a href='vscode-notebook-cell:/f%3A/Study/FYP/CellSizeBCA/Code/simulation.ipynb#W5sZmlsZQ%3D%3D?line=3'>4</a>\u001b[0m     Rt, Ct, t, para \u001b[39m=\u001b[39m sim_run(N, M, para, i, tstop\u001b[39m=\u001b[39;49m\u001b[39m10e6\u001b[39;49m, teval\u001b[39m=\u001b[39;49m\u001b[39m10000\u001b[39;49m)\n\u001b[0;32m      <a href='vscode-notebook-cell:/f%3A/Study/FYP/CellSizeBCA/Code/simulation.ipynb#W5sZmlsZQ%3D%3D?line=4'>5</a>\u001b[0m     Rt_assemblies\u001b[39m.\u001b[39mappend(Rt)\n\u001b[0;32m      <a href='vscode-notebook-cell:/f%3A/Study/FYP/CellSizeBCA/Code/simulation.ipynb#W5sZmlsZQ%3D%3D?line=5'>6</a>\u001b[0m     Ct_assemblies\u001b[39m.\u001b[39mappend(Ct)\n",
      "File \u001b[1;32mf:\\Study\\FYP\\CellSizeBCA\\Code\\simulation_func.py:35\u001b[0m, in \u001b[0;36msim_run\u001b[1;34m(N, M, para, assemblenum, tstop, teval, scale)\u001b[0m\n\u001b[0;32m     33\u001b[0m \u001b[39mif\u001b[39;00m scale:\n\u001b[0;32m     34\u001b[0m     pars \u001b[39m=\u001b[39m (para\u001b[39m.\u001b[39ml, para\u001b[39m.\u001b[39mm, para\u001b[39m.\u001b[39mrho, para\u001b[39m.\u001b[39mmu, para\u001b[39m.\u001b[39mkm, para\u001b[39m.\u001b[39mp, para\u001b[39m.\u001b[39mD, para\u001b[39m.\u001b[39mv_in_max, para\u001b[39m.\u001b[39mtype, para\u001b[39m.\u001b[39mB0, para\u001b[39m.\u001b[39mM0, para\u001b[39m.\u001b[39mE0, para\u001b[39m.\u001b[39malpha, para\u001b[39m.\u001b[39mbeta, para\u001b[39m.\u001b[39mgamma, para\u001b[39m.\u001b[39mR_half)\n\u001b[1;32m---> 35\u001b[0m     result \u001b[39m=\u001b[39m solve_ivp(\n\u001b[0;32m     36\u001b[0m     odes_scale_size, t_span\u001b[39m=\u001b[39;49m[time[\u001b[39m0\u001b[39;49m], time[\u001b[39m-\u001b[39;49m\u001b[39m1\u001b[39;49m]], y0\u001b[39m=\u001b[39;49my0, t_eval\u001b[39m=\u001b[39;49mtime, args\u001b[39m=\u001b[39;49mpars, dense_output\u001b[39m=\u001b[39;49m\u001b[39mTrue\u001b[39;49;00m)\n\u001b[0;32m     38\u001b[0m \u001b[39mif\u001b[39;00m \u001b[39mnot\u001b[39;00m scale:\n\u001b[0;32m     39\u001b[0m     pars \u001b[39m=\u001b[39m (para\u001b[39m.\u001b[39ml, para\u001b[39m.\u001b[39mm, para\u001b[39m.\u001b[39mrho, para\u001b[39m.\u001b[39mmu, para\u001b[39m.\u001b[39mkm, para\u001b[39m.\u001b[39mp, para\u001b[39m.\u001b[39mD, para\u001b[39m.\u001b[39mv_in_max, para\u001b[39m.\u001b[39mtype, para\u001b[39m.\u001b[39mR_half)\n",
      "File \u001b[1;32mf:\\Anaconda3\\envs\\fyp\\lib\\site-packages\\scipy\\integrate\\_ivp\\ivp.py:591\u001b[0m, in \u001b[0;36msolve_ivp\u001b[1;34m(fun, t_span, y0, method, t_eval, dense_output, events, vectorized, args, **options)\u001b[0m\n\u001b[0;32m    589\u001b[0m status \u001b[39m=\u001b[39m \u001b[39mNone\u001b[39;00m\n\u001b[0;32m    590\u001b[0m \u001b[39mwhile\u001b[39;00m status \u001b[39mis\u001b[39;00m \u001b[39mNone\u001b[39;00m:\n\u001b[1;32m--> 591\u001b[0m     message \u001b[39m=\u001b[39m solver\u001b[39m.\u001b[39;49mstep()\n\u001b[0;32m    593\u001b[0m     \u001b[39mif\u001b[39;00m solver\u001b[39m.\u001b[39mstatus \u001b[39m==\u001b[39m \u001b[39m'\u001b[39m\u001b[39mfinished\u001b[39m\u001b[39m'\u001b[39m:\n\u001b[0;32m    594\u001b[0m         status \u001b[39m=\u001b[39m \u001b[39m0\u001b[39m\n",
      "File \u001b[1;32mf:\\Anaconda3\\envs\\fyp\\lib\\site-packages\\scipy\\integrate\\_ivp\\base.py:181\u001b[0m, in \u001b[0;36mOdeSolver.step\u001b[1;34m(self)\u001b[0m\n\u001b[0;32m    179\u001b[0m \u001b[39melse\u001b[39;00m:\n\u001b[0;32m    180\u001b[0m     t \u001b[39m=\u001b[39m \u001b[39mself\u001b[39m\u001b[39m.\u001b[39mt\n\u001b[1;32m--> 181\u001b[0m     success, message \u001b[39m=\u001b[39m \u001b[39mself\u001b[39;49m\u001b[39m.\u001b[39;49m_step_impl()\n\u001b[0;32m    183\u001b[0m     \u001b[39mif\u001b[39;00m \u001b[39mnot\u001b[39;00m success:\n\u001b[0;32m    184\u001b[0m         \u001b[39mself\u001b[39m\u001b[39m.\u001b[39mstatus \u001b[39m=\u001b[39m \u001b[39m'\u001b[39m\u001b[39mfailed\u001b[39m\u001b[39m'\u001b[39m\n",
      "File \u001b[1;32mf:\\Anaconda3\\envs\\fyp\\lib\\site-packages\\scipy\\integrate\\_ivp\\rk.py:144\u001b[0m, in \u001b[0;36mRungeKutta._step_impl\u001b[1;34m(self)\u001b[0m\n\u001b[0;32m    141\u001b[0m h \u001b[39m=\u001b[39m t_new \u001b[39m-\u001b[39m t\n\u001b[0;32m    142\u001b[0m h_abs \u001b[39m=\u001b[39m np\u001b[39m.\u001b[39mabs(h)\n\u001b[1;32m--> 144\u001b[0m y_new, f_new \u001b[39m=\u001b[39m rk_step(\u001b[39mself\u001b[39;49m\u001b[39m.\u001b[39;49mfun, t, y, \u001b[39mself\u001b[39;49m\u001b[39m.\u001b[39;49mf, h, \u001b[39mself\u001b[39;49m\u001b[39m.\u001b[39;49mA,\n\u001b[0;32m    145\u001b[0m                        \u001b[39mself\u001b[39;49m\u001b[39m.\u001b[39;49mB, \u001b[39mself\u001b[39;49m\u001b[39m.\u001b[39;49mC, \u001b[39mself\u001b[39;49m\u001b[39m.\u001b[39;49mK)\n\u001b[0;32m    146\u001b[0m scale \u001b[39m=\u001b[39m atol \u001b[39m+\u001b[39m np\u001b[39m.\u001b[39mmaximum(np\u001b[39m.\u001b[39mabs(y), np\u001b[39m.\u001b[39mabs(y_new)) \u001b[39m*\u001b[39m rtol\n\u001b[0;32m    147\u001b[0m error_norm \u001b[39m=\u001b[39m \u001b[39mself\u001b[39m\u001b[39m.\u001b[39m_estimate_error_norm(\u001b[39mself\u001b[39m\u001b[39m.\u001b[39mK, h, scale)\n",
      "File \u001b[1;32mf:\\Anaconda3\\envs\\fyp\\lib\\site-packages\\scipy\\integrate\\_ivp\\rk.py:64\u001b[0m, in \u001b[0;36mrk_step\u001b[1;34m(fun, t, y, f, h, A, B, C, K)\u001b[0m\n\u001b[0;32m     62\u001b[0m \u001b[39mfor\u001b[39;00m s, (a, c) \u001b[39min\u001b[39;00m \u001b[39menumerate\u001b[39m(\u001b[39mzip\u001b[39m(A[\u001b[39m1\u001b[39m:], C[\u001b[39m1\u001b[39m:]), start\u001b[39m=\u001b[39m\u001b[39m1\u001b[39m):\n\u001b[0;32m     63\u001b[0m     dy \u001b[39m=\u001b[39m np\u001b[39m.\u001b[39mdot(K[:s]\u001b[39m.\u001b[39mT, a[:s]) \u001b[39m*\u001b[39m h\n\u001b[1;32m---> 64\u001b[0m     K[s] \u001b[39m=\u001b[39m fun(t \u001b[39m+\u001b[39;49m c \u001b[39m*\u001b[39;49m h, y \u001b[39m+\u001b[39;49m dy)\n\u001b[0;32m     66\u001b[0m y_new \u001b[39m=\u001b[39m y \u001b[39m+\u001b[39m h \u001b[39m*\u001b[39m np\u001b[39m.\u001b[39mdot(K[:\u001b[39m-\u001b[39m\u001b[39m1\u001b[39m]\u001b[39m.\u001b[39mT, B)\n\u001b[0;32m     67\u001b[0m f_new \u001b[39m=\u001b[39m fun(t \u001b[39m+\u001b[39m h, y_new)\n",
      "File \u001b[1;32mf:\\Anaconda3\\envs\\fyp\\lib\\site-packages\\scipy\\integrate\\_ivp\\base.py:138\u001b[0m, in \u001b[0;36mOdeSolver.__init__.<locals>.fun\u001b[1;34m(t, y)\u001b[0m\n\u001b[0;32m    136\u001b[0m \u001b[39mdef\u001b[39;00m \u001b[39mfun\u001b[39m(t, y):\n\u001b[0;32m    137\u001b[0m     \u001b[39mself\u001b[39m\u001b[39m.\u001b[39mnfev \u001b[39m+\u001b[39m\u001b[39m=\u001b[39m \u001b[39m1\u001b[39m\n\u001b[1;32m--> 138\u001b[0m     \u001b[39mreturn\u001b[39;00m \u001b[39mself\u001b[39;49m\u001b[39m.\u001b[39;49mfun_single(t, y)\n",
      "File \u001b[1;32mf:\\Anaconda3\\envs\\fyp\\lib\\site-packages\\scipy\\integrate\\_ivp\\base.py:20\u001b[0m, in \u001b[0;36mcheck_arguments.<locals>.fun_wrapped\u001b[1;34m(t, y)\u001b[0m\n\u001b[0;32m     19\u001b[0m \u001b[39mdef\u001b[39;00m \u001b[39mfun_wrapped\u001b[39m(t, y):\n\u001b[1;32m---> 20\u001b[0m     \u001b[39mreturn\u001b[39;00m np\u001b[39m.\u001b[39masarray(fun(t, y), dtype\u001b[39m=\u001b[39mdtype)\n",
      "File \u001b[1;32mf:\\Anaconda3\\envs\\fyp\\lib\\site-packages\\scipy\\integrate\\_ivp\\ivp.py:529\u001b[0m, in \u001b[0;36msolve_ivp.<locals>.<lambda>\u001b[1;34m(t, x, fun)\u001b[0m\n\u001b[0;32m    523\u001b[0m     suggestion_tuple \u001b[39m=\u001b[39m (\n\u001b[0;32m    524\u001b[0m         \u001b[39m\"\u001b[39m\u001b[39mSupplied \u001b[39m\u001b[39m'\u001b[39m\u001b[39margs\u001b[39m\u001b[39m'\u001b[39m\u001b[39m cannot be unpacked. Please supply `args`\u001b[39m\u001b[39m\"\u001b[39m\n\u001b[0;32m    525\u001b[0m         \u001b[39mf\u001b[39m\u001b[39m\"\u001b[39m\u001b[39m as a tuple (e.g. `args=(\u001b[39m\u001b[39m{\u001b[39;00margs\u001b[39m}\u001b[39;00m\u001b[39m,)`)\u001b[39m\u001b[39m\"\u001b[39m\n\u001b[0;32m    526\u001b[0m     )\n\u001b[0;32m    527\u001b[0m     \u001b[39mraise\u001b[39;00m \u001b[39mTypeError\u001b[39;00m(suggestion_tuple) \u001b[39mfrom\u001b[39;00m \u001b[39mexp\u001b[39;00m\n\u001b[1;32m--> 529\u001b[0m fun \u001b[39m=\u001b[39m \u001b[39mlambda\u001b[39;00m t, x, fun\u001b[39m=\u001b[39mfun: fun(t, x, \u001b[39m*\u001b[39;49margs)\n\u001b[0;32m    530\u001b[0m jac \u001b[39m=\u001b[39m options\u001b[39m.\u001b[39mget(\u001b[39m'\u001b[39m\u001b[39mjac\u001b[39m\u001b[39m'\u001b[39m)\n\u001b[0;32m    531\u001b[0m \u001b[39mif\u001b[39;00m callable(jac):\n",
      "File \u001b[1;32mf:\\Study\\FYP\\CellSizeBCA\\Code\\odes.py:80\u001b[0m, in \u001b[0;36modes_scale_size\u001b[1;34m(t, y, l, m, rho, mu, km, p, D, vmax, type, B0, M0, E0, alpha, beta, gamma, Rhalf)\u001b[0m\n\u001b[0;32m     78\u001b[0m v_out \u001b[39m=\u001b[39m scale_vout(v_out, C, E0, gamma)\n\u001b[0;32m     79\u001b[0m vdiff \u001b[39m=\u001b[39m v_out \u001b[39m-\u001b[39m v_in\n\u001b[1;32m---> 80\u001b[0m m_scale \u001b[39m=\u001b[39m scale_mt(m, C, M0, beta)\n\u001b[0;32m     82\u001b[0m A \u001b[39m=\u001b[39m np\u001b[39m.\u001b[39mempty((N\u001b[39m+\u001b[39mM))\n\u001b[0;32m     83\u001b[0m drdt \u001b[39m=\u001b[39m rho\u001b[39m+\u001b[39mkm\u001b[39m*\u001b[39m(vdiff\u001b[39m.\u001b[39mT \u001b[39m@\u001b[39m C)\n",
      "File \u001b[1;32mf:\\Study\\FYP\\CellSizeBCA\\Code\\size_scaled_func.py:25\u001b[0m, in \u001b[0;36mscale_mt\u001b[1;34m(m, mass, M0, beta)\u001b[0m\n\u001b[0;32m     12\u001b[0m     \u001b[39mreturn\u001b[39;00m np\u001b[39m.\u001b[39msign(mass) \u001b[39m*\u001b[39m vin\u001b[39m*\u001b[39m(B0\u001b[39m*\u001b[39m(np\u001b[39m.\u001b[39mabs(mass)\u001b[39m*\u001b[39m\u001b[39m*\u001b[39malpha))\n\u001b[0;32m     14\u001b[0m \u001b[39m# def scale_vgrow(vgrow, mass, B0, alpha):\u001b[39;00m\n\u001b[0;32m     15\u001b[0m \n\u001b[0;32m     16\u001b[0m \u001b[39m#     '''v_in scaling\u001b[39;00m\n\u001b[1;32m   (...)\u001b[0m\n\u001b[0;32m     22\u001b[0m \u001b[39m#     # return  vin*(B0*(mass**alpha))\u001b[39;00m\n\u001b[0;32m     23\u001b[0m \u001b[39m#     return np.sign(mass) * vgrow*(B0*(np.abs(mass)**alpha))\u001b[39;00m\n\u001b[1;32m---> 25\u001b[0m \u001b[39mdef\u001b[39;00m \u001b[39mscale_mt\u001b[39m(m, mass, M0, beta):\n\u001b[0;32m     26\u001b[0m \u001b[39m    \u001b[39m\u001b[39m'''maintanence scaling\u001b[39;00m\n\u001b[0;32m     27\u001b[0m \n\u001b[0;32m     28\u001b[0m \u001b[39m    Args:\u001b[39;00m\n\u001b[1;32m   (...)\u001b[0m\n\u001b[0;32m     35\u001b[0m \u001b[39m        _type_: _description_\u001b[39;00m\n\u001b[0;32m     36\u001b[0m \u001b[39m    '''\u001b[39;00m\n\u001b[0;32m     37\u001b[0m     \u001b[39m#mass[mass<0] = 0\u001b[39;00m\n\u001b[0;32m     38\u001b[0m     \u001b[39m# return m*(M0*(mass)**(1+alpha))\u001b[39;00m\n",
      "\u001b[1;31mKeyboardInterrupt\u001b[0m: "
     ]
    }
   ],
   "source": [
    "# Run simulation\n",
    "start = dt.datetime.now()\n",
    "for i in range(assemblies):\n",
    "    Rt, Ct, t, para = sim_run(N, M, para, i, tstop=10e6, teval=10000)\n",
    "    Rt_assemblies.append(Rt)\n",
    "    Ct_assemblies.append(Ct)\n",
    "    para_assemblies.append(para)\n",
    "    time_assemblies.append(t)\n",
    "    print(f'Asembly {i+1} complete, runtime:{dt.datetime.now()-start}') if (i+1) %5==0 else None"
   ]
  },
  {
   "attachments": {},
   "cell_type": "markdown",
   "metadata": {},
   "source": [
    "### Store the data\n",
    "\n",
    "- Each Assembly will be stored in a dir called 'Abl_n' containing four files:\n",
    "    - Resource concentration -- Abl_n_Rt.npy\n",
    "    - Biomass concentration -- Abl_n_Ct.npy\n",
    "    - Parametre -- Abl_n_Para.pkl\n",
    "    - Time_series -- Abl_n_t.npy"
   ]
  },
  {
   "cell_type": "code",
   "execution_count": 8,
   "metadata": {},
   "outputs": [],
   "source": [
    "if not os.path.exists('..\\Data\\-25_beta'):\n",
    "    os.makedirs('..\\Data\\-25_beta')\n",
    "for i in range(1, len(Ct_assemblies)+1):\n",
    "\n",
    "    dir = f'..\\Data\\-25_beta\\Abl_{i}'\n",
    "    if not os.path.exists(dir):\n",
    "        os.makedirs(dir) \n",
    "\n",
    "    with open(dir + f'\\Abl_{i}_Ct.npy', 'wb') as f:\n",
    "        np.save(f, Ct_assemblies[i-1])\n",
    "    f.close()\n",
    "\n",
    "    with open(dir + f'\\Abl_{i}_Rt.npy', 'wb') as f:\n",
    "        np.save(f, Rt_assemblies[i-1])\n",
    "    f.close()\n",
    "\n",
    "    with open(dir + f'\\Abl_{i}_t.npy', 'wb') as f:\n",
    "        np.save(f, time_assemblies[i-1])\n",
    "    f.close()\n",
    "\n",
    "    with open(dir + f'\\Abl_{i}_Para.pkl', 'wb') as f:\n",
    "        pkl.dump(para_assemblies[i-1], f)\n",
    "    f.close()"
   ]
  },
  {
   "attachments": {},
   "cell_type": "markdown",
   "metadata": {},
   "source": [
    "## Subassemby runs"
   ]
  },
  {
   "cell_type": "code",
   "execution_count": 2,
   "metadata": {},
   "outputs": [],
   "source": [
    "# Setting parametres\n",
    "N = 100\n",
    "M = 50\n",
    "assemblenum = 1\n",
    "assemblies = 30\n",
    "subcommunity_size = 20\n",
    "num_subcommunity = 30"
   ]
  },
  {
   "cell_type": "code",
   "execution_count": 3,
   "metadata": {},
   "outputs": [
    {
     "name": "stdout",
     "output_type": "stream",
     "text": [
      "Initialisation completed!\n",
      "Subcommunity simulation 5 completed runtime:0:00:25.216166\n",
      "Subcommunity simulation 10 completed runtime:0:00:46.298280\n",
      "Subcommunity simulation 15 completed runtime:0:01:14.063159\n",
      "Subcommunity simulation 20 completed runtime:0:01:38.198306\n",
      "Subcommunity simulation 25 completed runtime:0:01:58.800851\n",
      "Subcommunity simulation 30 completed runtime:0:02:21.931788\n"
     ]
    }
   ],
   "source": [
    "R, C, t, para, idlist = sim_sub_run(N, M, assemblenum, 1000000, 10000, subcommunity_size, num_subcommunity)"
   ]
  },
  {
   "cell_type": "code",
   "execution_count": 8,
   "metadata": {},
   "outputs": [
    {
     "data": {
      "text/plain": [
       "array([22, 96, 99, 25, 12, 62, 38, 83,  8, 91, 79, 41, 90, 71,  2, 77, 28,\n",
       "       39, 24, 53])"
      ]
     },
     "execution_count": 8,
     "metadata": {},
     "output_type": "execute_result"
    }
   ],
   "source": []
  },
  {
   "attachments": {},
   "cell_type": "markdown",
   "metadata": {},
   "source": [
    "### Load data structure\n",
    "- data storage structure: FOLDER `sub_abl_beta=0.75` contains\n",
    "    - FOLDER `subabl_{i}`, each of which contains the following:\n",
    "        - Resource concentration -- `sAbl_n_Rt.npy`\n",
    "        - Biomass concentration -- `sAbl_n_Ct.npy`\n",
    "        - Parametre -- `sAbl_n_Para.pkl`\n",
    "        - Time_series -- `sAbl_n_t.npy`"
   ]
  },
  {
   "cell_type": "code",
   "execution_count": 9,
   "metadata": {},
   "outputs": [],
   "source": [
    "if not os.path.exists('..\\Data\\sub_abl_beta=0.75'):\n",
    "    os.makedirs('..\\Data\\sub_abl_beta=0.75')\n",
    "for i in range(1, num_subcommunity+1):\n",
    "\n",
    "    dir = f'..\\Data\\sub_abl_beta=0.75\\sAbl_{i}'\n",
    "    if not os.path.exists(dir):\n",
    "        os.makedirs(dir) \n",
    "\n",
    "    with open(dir + f'\\sAbl_{i}_Ct.npy', 'wb') as f:\n",
    "        np.save(f, C[i-1])\n",
    "    f.close()\n",
    "\n",
    "    with open(dir + f'\\sAbl_{i}_Rt.npy', 'wb') as f:\n",
    "        np.save(f, R[i-1])\n",
    "    f.close()\n",
    "\n",
    "    with open(dir + f'\\sAbl_{i}_t.npy', 'wb') as f:\n",
    "        np.save(f, t[i-1])\n",
    "    f.close()\n",
    "\n",
    "    with open(dir + f'\\sAbl_{i}_Para.pkl', 'wb') as f:\n",
    "        pkl.dump(para[i-1], f)\n",
    "    f.close()\n",
    "\n",
    "    with open(dir + f'\\sAbl_{i}speciesID.npy', 'wb') as f:\n",
    "        np.save(f, idlist[i-1])\n",
    "    f.close()"
   ]
  },
  {
   "attachments": {},
   "cell_type": "markdown",
   "metadata": {},
   "source": [
    "## Subassemby runs with varying w"
   ]
  },
  {
   "attachments": {},
   "cell_type": "markdown",
   "metadata": {},
   "source": [
    "- let `w=1` to `w=2` from uniform to left skewed distribution\n",
    "- Assuming each community has `subcommunity_size = 20` species selected from a pre-initialised species pool, each session consists of 30 communities for each value of `w`, where `w` will be binned into `50` values.\n",
    "- Modify `sim_sub_run` function, then we store our results"
   ]
  },
  {
   "cell_type": "code",
   "execution_count": 24,
   "metadata": {},
   "outputs": [],
   "source": [
    "## get w values\n",
    "w = np.linspace(1, 2, 50)\n",
    "\n",
    "## initialised data storage\n",
    "Rw = []\n",
    "Cw = []\n",
    "tw = []\n",
    "paraw = []\n",
    "idlist = []\n",
    "\n",
    "## initialised parametres\n",
    "N = 100\n",
    "M = 50\n",
    "assemblenum = 1\n",
    "assemblies = 30\n",
    "subcommunity_size = 20\n",
    "num_subcommunity = 30"
   ]
  },
  {
   "cell_type": "code",
   "execution_count": 25,
   "metadata": {},
   "outputs": [],
   "source": [
    "### initialised parametres to ensure each session uses the same set of species\n",
    "para = Paras(N, M)\n",
    "p, number = int_preferences(N, M, para.mu_c, assemblenum)\n",
    "D = int_conversion(M, para.Dbase, para.number, assemblenum, para.sparsity)\n",
    "l = int_l(M, para.l_base, assemblenum)\n",
    "rho = int_rho(M, para.rho_base, assemblenum)\n",
    "vmax = int_vmax(N, M, para.v_max_base, p, number, assemblenum)\n",
    "m = int_mt(N, para.m_base, assemblenum)\n"
   ]
  },
  {
   "cell_type": "code",
   "execution_count": 26,
   "metadata": {},
   "outputs": [],
   "source": [
    "def sim_sub_run(N, M, assemblenum, tstop, teval, subcommunity_size=10, num_subcommunity=20, scale=True, w=2):\n",
    "\n",
    "    # data storage\n",
    "    R_assembles = []\n",
    "    C_assembles = []\n",
    "    t_assembles = []\n",
    "    para_assembles = []\n",
    "    identifiers = []\n",
    "    \n",
    "\n",
    "    # print(f'Initialisation completed!')\n",
    "    # start = dt.datetime.now()\n",
    "\n",
    "    # run sub_communities\n",
    "    for i in range(num_subcommunity):\n",
    "        \n",
    "        para = Paras(subcommunity_size, M)\n",
    "        \n",
    "        ## select corresponding species for subcommunity assemblies\n",
    "        rng = default_rng(seed=assemblenum+i+8*i)\n",
    "        idx = rng.choice(range(N), size=subcommunity_size, replace=False)\n",
    "        identifiers.append(idx)\n",
    "\n",
    "        # reset and initialised\n",
    "        new_p = p[idx, :]\n",
    "        new_vmax = vmax[idx, :]\n",
    "        new_m = m[idx, :]\n",
    "        para.w = w\n",
    "        avgm = allocate_avgm(subcommunity_size, para.w, assemblenum, para.ymin, para.ymax)\n",
    "        \n",
    "        ## Initialised Initial conditions\n",
    "        R0 = int_R(M, para.R0, assemblenum)\n",
    "        C0 = int_C(avgm, para.x0)\n",
    "\n",
    "       # Load parametres\n",
    "        para.paras(C0, R0, l, rho, new_p, new_vmax, new_m, D, avgm)\n",
    "        time = np.linspace(0, tstop, teval)\n",
    "        y0 = np.concatenate((R0, C0)).reshape(M+subcommunity_size,) # initial conditions\n",
    "        # run and store\n",
    "        if scale:\n",
    "            pars = (para.l, para.m, para.rho, para.mu, para.km, para.p, para.D, para.v_in_max, para.type, para.B0, para.M0, para.E0, para.alpha, para.beta, para.gamma, para.R_half, para.avgm)\n",
    "            result = solve_ivp(\n",
    "            odes_scale_size, t_span=[time[0], time[-1]], y0=y0, t_eval=time, args=pars, dense_output=True)\n",
    "        \n",
    "        if not scale:\n",
    "            pars = (para.l, para.m, para.rho, para.mu, para.km, para.p, para.D, para.v_in_max, para.type, para.R_half)\n",
    "            result = solve_ivp(odes_not_scaled, t_span=[time[0], time[-1]], y0=y0, t_eval=time, args=pars, dense_output=True)\n",
    "        \n",
    "        Rt = result['y'][0:M]\n",
    "        Ct = result['y'][M:M+subcommunity_size]\n",
    "        t = result['t']\n",
    "\n",
    "        # print(f'Subcommunity simulation {i+1} completed runtime:{dt.datetime.now()-start}') if (i+1)%5==0 else None\n",
    "\n",
    "        R_assembles.append(Rt)\n",
    "        C_assembles.append(Ct)\n",
    "        t_assembles.append(t)\n",
    "        para_assembles.append(para)\n",
    "\n",
    "    return R_assembles, C_assembles, t_assembles, para_assembles, identifiers"
   ]
  },
  {
   "cell_type": "code",
   "execution_count": 27,
   "metadata": {},
   "outputs": [
    {
     "name": "stdout",
     "output_type": "stream",
     "text": [
      "Subcommunity simulation 5 completed runtime:0:07:33.982934, w: 1.0816326530612246\n",
      "Subcommunity simulation 10 completed runtime:0:16:33.099050, w: 1.183673469387755\n",
      "Subcommunity simulation 15 completed runtime:0:28:55.712032, w: 1.2857142857142856\n",
      "Subcommunity simulation 20 completed runtime:0:42:00.911307, w: 1.3877551020408163\n",
      "Subcommunity simulation 25 completed runtime:0:53:13.584074, w: 1.489795918367347\n",
      "Subcommunity simulation 30 completed runtime:1:03:57.552426, w: 1.5918367346938775\n",
      "Subcommunity simulation 35 completed runtime:1:13:54.240504, w: 1.693877551020408\n",
      "Subcommunity simulation 40 completed runtime:1:24:44.047186, w: 1.7959183673469385\n",
      "Subcommunity simulation 45 completed runtime:1:36:37.685739, w: 1.8979591836734693\n",
      "Subcommunity simulation 50 completed runtime:1:48:50.200057, w: 2.0\n"
     ]
    }
   ],
   "source": [
    "# start running\n",
    "\n",
    "start = dt.datetime.now()\n",
    "for i, vals in enumerate(w):\n",
    "    R, C, t, parat, idxs = sim_sub_run(N, M, i, 1000000, 10000, subcommunity_size, num_subcommunity, True, vals)\n",
    "    Rw.append(R)\n",
    "    Cw.append(C)\n",
    "    tw.append(t)\n",
    "    paraw.append(parat)\n",
    "    idlist.append(idxs)\n",
    "    \n",
    "    print(f'Subcommunity simulation {i+1} completed runtime:{dt.datetime.now()-start}, w: {parat[0].w}')  if (i+1)%5==0 else None\n"
   ]
  },
  {
   "attachments": {},
   "cell_type": "markdown",
   "metadata": {},
   "source": [
    "- data storage structure: FOLDER `variedC` contains\n",
    "    - FOLDER `w_val`, each of which contains the following:\n",
    "        - Resource concentration -- `sAbl_n_Rt.npy`\n",
    "        - Biomass concentration -- `sAbl_n_Ct.npy`\n",
    "        - Parametre -- `sAbl_n_Para.pkl`\n",
    "        - Time_series -- `sAbl_n_t.npy` $\\newline$\n",
    "for every n"
   ]
  },
  {
   "cell_type": "code",
   "execution_count": 28,
   "metadata": {},
   "outputs": [],
   "source": [
    "## data storage\n",
    "if not os.path.exists('..\\Data\\\\variedC'):\n",
    "    os.mkdir('..\\Data\\\\variedC')\n",
    "\n",
    "for i, val in enumerate(w):\n",
    "    dir = f'..\\Data\\\\variedC\\w_{val}'\n",
    "    if not os.path.exists(dir):\n",
    "        os.mkdir(dir)\n",
    "    \n",
    "    R = Rw[i]\n",
    "    C = Cw[i]\n",
    "    t = tw[i]\n",
    "    para = paraw[i]\n",
    "    idl = idlist[i]\n",
    "\n",
    "    for j in range(1, len(R)+1):\n",
    "\n",
    "        with open(dir + f'\\w{i}_sAbl_{j}_Ct.npy', 'wb') as f:\n",
    "            np.save(f, C[j-1])\n",
    "        f.close()\n",
    "\n",
    "        with open(dir + f'\\w{i}_sAbl_{j}_Rt.npy', 'wb') as f:\n",
    "            np.save(f, R[j-1])\n",
    "        f.close()\n",
    "\n",
    "        with open(dir + f'\\w{i}_sAbl_{j}_t.npy', 'wb') as f:\n",
    "            np.save(f, t[j-1])\n",
    "        f.close()\n",
    "\n",
    "        with open(dir + f'\\w{i}_sAbl_{j}_Para.pkl', 'wb') as f:\n",
    "            pkl.dump(para[j-1], f)\n",
    "        f.close()\n",
    "\n",
    "        with open(dir + f'\\w{i}_sAbl_{j}speciesID.npy', 'wb') as f:\n",
    "            np.save(f, idl[j-1])\n",
    "        f.close()\n"
   ]
  },
  {
   "cell_type": "code",
   "execution_count": 29,
   "metadata": {},
   "outputs": [],
   "source": [
    "for i, val in enumerate(w):\n",
    "    dir = f'..\\Data\\\\variedC\\w_{val}'\n",
    "    os.rename(dir, f'..\\Data\\\\variedC\\w_{i}')"
   ]
  }
 ],
 "metadata": {
  "kernelspec": {
   "display_name": "fyp",
   "language": "python",
   "name": "python3"
  },
  "language_info": {
   "codemirror_mode": {
    "name": "ipython",
    "version": 3
   },
   "file_extension": ".py",
   "mimetype": "text/x-python",
   "name": "python",
   "nbconvert_exporter": "python",
   "pygments_lexer": "ipython3",
   "version": "3.10.9"
  },
  "orig_nbformat": 4
 },
 "nbformat": 4,
 "nbformat_minor": 2
}
