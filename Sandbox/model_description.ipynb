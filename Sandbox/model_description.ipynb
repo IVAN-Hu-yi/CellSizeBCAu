{
 "cells": [
  {
   "attachments": {},
   "cell_type": "markdown",
   "metadata": {},
   "source": [
    "# Effect of body mass on relative abundance and composition\n",
    "\n",
    "## Microbial Consumer-Resource Model (MiCRM)"
   ]
  },
  {
   "attachments": {},
   "cell_type": "markdown",
   "metadata": {},
   "source": [
    "Here we adopt the framework from [Marsland, 2019](https://journals.plos.org/ploscompbiol/article?id=10.1371/journal.pcbi.1006793): The incoming matter flux of resource $j$ from species $i$ will the be defined by the response function, the concentration of resource $j$, $R_j$ and species preference on a particular resource type $j$, $p_{ij}$:\n",
    "\n",
    "$$ \\tag{1}\n",
    "v_{ij}^{in} = \\sigma(p_{ij} R_j)\n",
    "$$\n",
    "\n",
    "\n",
    "where the response function $\\sigma(x) = x_{\\max} \\frac{x}{k + x}$ is the Monod function that maps the resource availabe to the resources taken by bacteria. \n",
    "\n",
    "$$\n",
    "\\sigma(p_{ij} R_j) = v^{max}_{ij} \\frac{p_{ij} R_j}{R_{half} + p_{ij} R_j}\n",
    "$$\n",
    "\n",
    "where  $v^{max}_{ij} = \\max \\sigma(p_{ij} R_j)$"
   ]
  },
  {
   "attachments": {},
   "cell_type": "markdown",
   "metadata": {},
   "source": [
    " The total resource, $ v^{grow}_i $, used for growth of biomass will be defined by setting a  fraction ($l_{j}$) of mass returned to the environment (Assuming there are M types of resource):\n",
    "\n",
    "$$ \\tag{2}\n",
    "\n",
    "v^{grow}_{i} = \\sum^M_{j=1} (1-l_{j}) v^{in}_{ij}\n",
    "\n",
    "$$"
   ]
  },
  {
   "attachments": {},
   "cell_type": "markdown",
   "metadata": {},
   "source": [
    "The population growth will be proportional to the resource available for growth. Hence, (Assuming there are $N$ species),  the dynamics of biomass abundance $C_i$ of species $i^{th}$:\n",
    "\n",
    "$$ \\tag{3}\n",
    "\n",
    "\\frac{dC_i}{dt} = \\mu C_i \\bigg ( v^{grow}_i  - m_i(C_i) \\bigg ) \\text{, for } i = 1, 2, 3, \\dots, N\n",
    "\n",
    "$$"
   ]
  },
  {
   "attachments": {},
   "cell_type": "markdown",
   "metadata": {},
   "source": [
    "The resource $k$ is returned to the environment in the form of resource $j$ ($ k \\rightarrow j $) with a conversion efficiency of $D_{kj}$. Then the matter outflow of resource $j$ from species $i$ is:\n",
    "\n",
    "$$ \\tag{4}\n",
    "v^{out}_{ij} = \\sum^M_{k=1} D_{kj} l_k v^{in}_{ik}\n",
    "$$\n",
    "\n",
    "Note: Here we set the conversion effeciency as 0.5 for all $k$ and $j$ while satisfying $\\sum^M_{j=1} D_{kj} = 1$\n"
   ]
  },
  {
   "attachments": {},
   "cell_type": "markdown",
   "metadata": {},
   "source": [
    "Hence the resource dynamics of type $j$ will be:\n",
    "\n",
    "$$ \\tag{5}\n",
    "\n",
    "\\frac{dR_j}{dt} = \\rho_j + k_m \\sum^N_{i=1} C_i (v^{out}_{ij} - v^{in}_{ij})\n",
    "\n",
    "$$"
   ]
  },
  {
   "attachments": {},
   "cell_type": "markdown",
   "metadata": {},
   "source": [
    " Here, $U_{ij}$ is uptake rate of resource $j$ by speceis $i$, $l_{ij}$ is the leakage of resource $j$ to the environment in the form of resource $k$. $m_i$ is the maintainence required for species $i$. The terms are explained in Table 1. "
   ]
  },
  {
   "attachments": {},
   "cell_type": "markdown",
   "metadata": {},
   "source": [
    "$$\n",
    "\\begin{array}{c}\n",
    "\\text{Table 1: Definition and Units of Parameters}\n",
    "\\\\\n",
    "\\displaystyle\n",
    "\\begin{array}{ |c|c|c| } \n",
    "\\hline\n",
    "\\text{Symbols} & \\text{Definition} & \\text{Units} \\\\ \n",
    "\\hline \n",
    "C & \\text{Biomass content} & \\text{mass} \\\\ \n",
    "R & \\text{Resources content} & \\text{mass} \\\\\n",
    "l & \\text{Fraction of leakage} & \\text{None} \\\\\n",
    "m & \\text{Maintenance coefficient} & \\text{mass/time} \\\\\n",
    "v^{grow} & \\text{resource used for grow} & \\text{mass/time} \\\\\n",
    "v^{in} & \\text{resource inflow} & \\text{mass/time}\\\\\n",
    "v^{out} & \\text{resrouce outflow} & \\text{mass/time}\\\\\n",
    "\\rho & \\text{External resource supply} & \\text{mass/time} \\\\\n",
    "\\mu &  \\text{Intrinsic Growth Rate} & \\text{mass}^{-1} \\\\\n",
    "k_m &  \\text{Individual per unit mass} & \\text{mass}^{-1} \\\\\n",
    "p &  \\text{Preferences as fraction of total resource} & \\text{None} \\\\\n",
    "D & \\text{conversion efficiency} &\\text{None} \\\\\n",
    "\\hline\n",
    "\\end{array}\n",
    "\\end{array}\n",
    "$$\n"
   ]
  },
  {
   "attachments": {},
   "cell_type": "markdown",
   "metadata": {},
   "source": [
    "Here $v^{in}_{ij}(C_i)$, $v^{out}_{ij}(C_i)$ and $m_i(C_i)$ are scaled by biomass for investigating the effect of biomass on population dynamics within the bacterial community, which will be discussed in the next section."
   ]
  },
  {
   "attachments": {},
   "cell_type": "markdown",
   "metadata": {},
   "source": [
    "## Body mass Parametrisation on MiCRM"
   ]
  },
  {
   "attachments": {},
   "cell_type": "markdown",
   "metadata": {},
   "source": [
    "Power law relationships between microbial metabolic rate and body size had been revealed. We follow the similar notion on body mass parametrization. Hence, the resulting inflow of energy flux will be\n",
    "\n",
    "$$ \\tag{6}\n",
    "\n",
    "v^{in}_{ij}(C_i) =  B_0 C_i^{\\alpha} \\sigma(p_{ij} R_j)\n",
    "\n",
    "$$\n"
   ]
  },
  {
   "attachments": {},
   "cell_type": "markdown",
   "metadata": {},
   "source": [
    "Similarly, here we assume that the maintanence cost are scaled similarly to the body mass with same constant $\\alpha$:\n",
    "\n",
    "$$ \\tag{8}\n",
    " m_i(C_i) = M_0 C^{\\alpha + 1}_i m\n",
    "$$"
   ]
  },
  {
   "attachments": {},
   "cell_type": "markdown",
   "metadata": {},
   "source": [
    "The scaling to outgoing energy flow can use proton leak in mammals from this [paper](https://www.nature.com/articles/362628a0) as a proxy, where the exponent $\\gamma = 0.86$:\n",
    "\n",
    "$$ \\tag{10}\n",
    "v^{out}_{ij} (C_i) = E_0 C_i^{\\gamma}  v^{out}_{ij} = E_0 C_i^{\\gamma} \\sum^M_{k=1} D_{kj} l_j v^{in}_{ij}\n",
    "$$"
   ]
  },
  {
   "attachments": {},
   "cell_type": "markdown",
   "metadata": {},
   "source": [
    "$$\n",
    "\\begin{array}{c}\n",
    "\\text{Table 2: Definition, Units and vlaues of scalling Parameters}\n",
    "\\\\\n",
    "\\displaystyle\n",
    "\\begin{array}{ |c|c|c|c| } \n",
    "\\hline\n",
    "\\text{Symbols} & \\text{Definition} & \\text{Units} \\ \\text{Values} \\\\\n",
    "\\hline\n",
    "\n",
    "\\alpha & \\text{Scaling Exponent of metabolic rate/maintainence} & \\text{None} & - 0.25 \\\\\n",
    "\\gamma & \\text{Scaling Exponent for leak energy} & \\text{None} & 0.86 \\\\\n",
    "B_0 & \\text{Normalisation constant for resource inflow}& \\text{mass}^{-\\alpha} & \\\\\n",
    "M_0 & \\text{Normalisation constant for maintenance} & \\text{mass}^{-\\alpha} & \\\\\n",
    "E_0 & \\text{Normalisation constant for outflow} & \\text{mass}^{-\\gamma} & \\\\\n",
    " \n",
    "\n",
    "\\hline\n",
    "\\end{array}\n",
    "\\end{array}\n",
    "$$"
   ]
  }
 ],
 "metadata": {
  "kernelspec": {
   "display_name": "Python 3",
   "language": "python",
   "name": "python3"
  },
  "language_info": {
   "codemirror_mode": {
    "name": "ipython",
    "version": 3
   },
   "file_extension": ".py",
   "mimetype": "text/x-python",
   "name": "python",
   "nbconvert_exporter": "python",
   "pygments_lexer": "ipython3",
   "version": "3.10.9"
  },
  "orig_nbformat": 4,
  "vscode": {
   "interpreter": {
    "hash": "aee8b7b246df8f9039afb4144a1f6fd8d2ca17a180786b69acc140d282b71a49"
   }
  }
 },
 "nbformat": 4,
 "nbformat_minor": 2
}
